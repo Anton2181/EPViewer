{
  "nbformat": 4,
  "nbformat_minor": 0,
  "metadata": {
    "colab": {
      "name": "MMUM - Laboratorium 3: Badanie zdolności generalizacyjnych sieci neuronowych",
      "provenance": [],
      "collapsed_sections": [
        "4RGRLmW7dw-y"
      ],
      "toc_visible": true,
      "include_colab_link": true
    },
    "kernelspec": {
      "display_name": "Python 3",
      "name": "python3"
    },
    "language_info": {
      "name": "python"
    },
    "accelerator": "GPU"
  },
  "cells": [
    {
      "cell_type": "markdown",
      "metadata": {
        "id": "view-in-github",
        "colab_type": "text"
      },
      "source": [
        "<a href=\"https://colab.research.google.com/github/Anton2181/EPViewer/blob/main/Generalizacja/Badanie_zdolnosci_generalizacyjnych_sieci_neuronowych.ipynb\" target=\"_parent\"><img src=\"https://colab.research.google.com/assets/colab-badge.svg\" alt=\"Open In Colab\"/></a>"
      ]
    },
    {
      "cell_type": "markdown",
      "metadata": {
        "id": "IBP4HrREX7W4"
      },
      "source": [
        "# **Badanie zdolności generalizacyjnych sieci neuronowych**\n",
        "\n",
        "\n",
        "---\n",
        "\n",
        "![obraz.png](data:image/png;base64,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)\n",
        "  \n",
        "\n",
        "#### Zakład Elektrotechniki Teoretycznej i Informatyki Stosowanej\n",
        "#### Instytut Elektrotechniki Teoretycznej i Systemów Informacyjno-Pomiarowych\n",
        "#### Wydział Elektryczny, Politechnika Warszawska\n",
        "  \n",
        "Autor: mgr inż. Aleksandra Osowska-Kurczab"
      ]
    },
    {
      "cell_type": "markdown",
      "metadata": {
        "id": "7URa379b201p"
      },
      "source": [
        "## **Importy bibliotek**\n",
        "\n",
        "Import standardowych bibliotek i funkcji wykorzystywanych w ćwiczeniu."
      ]
    },
    {
      "cell_type": "code",
      "metadata": {
        "id": "pUXa8jGG21Ml",
        "colab": {
          "base_uri": "https://localhost:8080/"
        },
        "outputId": "5d0d9b55-b2b8-41de-d743-7dbf6347a686"
      },
      "source": [
        "import re\n",
        "\n",
        "import numpy as np\n",
        "import pandas as pd\n",
        "import seaborn as sn\n",
        "import matplotlib.pyplot as plt\n",
        "from matplotlib import gridspec\n",
        "\n",
        "import tensorflow_hub as hub\n",
        "import torch\n",
        "import torchvision\n",
        "import torch.nn as nn\n",
        "import torch.nn.functional as F\n",
        "import torch.optim as optim\n",
        "!wget www.di.ens.fr/~lelarge/MNIST.tar.gz\n",
        "!tar -zxvf MNIST.tar.gz\n",
        "\n",
        "!pip install scikit-learn\n",
        "data_url = \"http://lib.stat.cmu.edu/datasets/boston\"\n",
        "raw_df = pd.read_csv(data_url, sep=\"\\s+\", skiprows=22, header=None)\n",
        "data = np.hstack([raw_df.values[::2, :], raw_df.values[1::2, :2]])\n",
        "target = raw_df.values[1::2, 2]\n",
        "from sklearn.datasets import fetch_20newsgroups\n",
        "from sklearn.feature_extraction.text import CountVectorizer, TfidfVectorizer, TfidfTransformer\n",
        "from sklearn.metrics import mean_squared_error, classification_report, confusion_matrix, precision_score, recall_score, f1_score, accuracy_score\n",
        "from sklearn.model_selection import train_test_split\n",
        "from sklearn.naive_bayes import MultinomialNB\n",
        "from sklearn.neural_network import MLPRegressor\n",
        "from sklearn.pipeline import make_pipeline, Pipeline\n",
        "from sklearn.preprocessing import StandardScaler\n",
        "from sklearn.svm import SVR, SVC\n",
        "from sklearn.tree import DecisionTreeRegressor, plot_tree\n",
        "from sklearn.utils import check_array\n",
        "\n",
        "import nltk\n",
        "nltk.download('stopwords')\n",
        "nltk.download('punkt')\n",
        "from nltk.corpus import stopwords\n",
        "from nltk.tokenize import word_tokenize"
      ],
      "execution_count": 2,
      "outputs": [
        {
          "output_type": "stream",
          "name": "stdout",
          "text": [
            "--2025-05-14 10:52:37--  http://www.di.ens.fr/~lelarge/MNIST.tar.gz\n",
            "Resolving www.di.ens.fr (www.di.ens.fr)... 129.199.99.14\n",
            "Connecting to www.di.ens.fr (www.di.ens.fr)|129.199.99.14|:80... connected.\n",
            "HTTP request sent, awaiting response... 302 Found\n",
            "Location: https://www.di.ens.fr/~lelarge/MNIST.tar.gz [following]\n",
            "--2025-05-14 10:52:38--  https://www.di.ens.fr/~lelarge/MNIST.tar.gz\n",
            "Connecting to www.di.ens.fr (www.di.ens.fr)|129.199.99.14|:443... connected.\n",
            "HTTP request sent, awaiting response... 200 OK\n",
            "Length: unspecified [application/x-gzip]\n",
            "Saving to: ‘MNIST.tar.gz’\n",
            "\n",
            "MNIST.tar.gz            [        <=>         ]  33.20M  5.56MB/s    in 16s     \n",
            "\n",
            "2025-05-14 10:52:54 (2.07 MB/s) - ‘MNIST.tar.gz’ saved [34813078]\n",
            "\n",
            "MNIST/\n",
            "MNIST/raw/\n",
            "MNIST/raw/train-labels-idx1-ubyte\n",
            "MNIST/raw/t10k-labels-idx1-ubyte.gz\n",
            "MNIST/raw/t10k-labels-idx1-ubyte\n",
            "MNIST/raw/t10k-images-idx3-ubyte.gz\n",
            "MNIST/raw/train-images-idx3-ubyte\n",
            "MNIST/raw/train-labels-idx1-ubyte.gz\n",
            "MNIST/raw/t10k-images-idx3-ubyte\n",
            "MNIST/raw/train-images-idx3-ubyte.gz\n",
            "MNIST/processed/\n",
            "MNIST/processed/training.pt\n",
            "MNIST/processed/test.pt\n",
            "Requirement already satisfied: scikit-learn in /usr/local/lib/python3.11/dist-packages (1.6.1)\n",
            "Requirement already satisfied: numpy>=1.19.5 in /usr/local/lib/python3.11/dist-packages (from scikit-learn) (2.0.2)\n",
            "Requirement already satisfied: scipy>=1.6.0 in /usr/local/lib/python3.11/dist-packages (from scikit-learn) (1.15.3)\n",
            "Requirement already satisfied: joblib>=1.2.0 in /usr/local/lib/python3.11/dist-packages (from scikit-learn) (1.5.0)\n",
            "Requirement already satisfied: threadpoolctl>=3.1.0 in /usr/local/lib/python3.11/dist-packages (from scikit-learn) (3.6.0)\n"
          ]
        },
        {
          "output_type": "stream",
          "name": "stderr",
          "text": [
            "[nltk_data] Downloading package stopwords to /root/nltk_data...\n",
            "[nltk_data]   Unzipping corpora/stopwords.zip.\n",
            "[nltk_data] Downloading package punkt to /root/nltk_data...\n",
            "[nltk_data]   Unzipping tokenizers/punkt.zip.\n"
          ]
        }
      ]
    },
    {
      "cell_type": "markdown",
      "metadata": {
        "id": "AJiiX1lw2oi0"
      },
      "source": [
        "## **Dodatkowe funkcje**\n",
        "\n",
        "Biblioteka dodatkowych funkcji wykorzystywanych w ćwiczeniu. Nie trzeba się z nią dokładnie zapoznawać, chyba, że treść ćwiczenia mówi inaczej.\n"
      ]
    },
    {
      "cell_type": "code",
      "metadata": {
        "id": "zAODTxIDJyWM",
        "colab": {
          "base_uri": "https://localhost:8080/"
        },
        "outputId": "84e9180e-7160-47de-8597-9e10180c7631"
      },
      "source": [
        "RANDOM_SEED=123\n",
        "torch.manual_seed(RANDOM_SEED)"
      ],
      "execution_count": 3,
      "outputs": [
        {
          "output_type": "execute_result",
          "data": {
            "text/plain": [
              "<torch._C.Generator at 0x7e19292ff250>"
            ]
          },
          "metadata": {},
          "execution_count": 3
        }
      ]
    },
    {
      "cell_type": "code",
      "metadata": {
        "id": "Zs18LY_FJ1Cu",
        "colab": {
          "base_uri": "https://localhost:8080/"
        },
        "outputId": "5fcd1504-2cf7-470a-b0e4-cfcba05a874b"
      },
      "source": [
        "# torch.backends.cudnn.enabled = False\n",
        "DEVICE = torch.device(\"cuda:0\" if torch.cuda.is_available() else \"cpu\")\n",
        "DEVICE"
      ],
      "execution_count": 4,
      "outputs": [
        {
          "output_type": "execute_result",
          "data": {
            "text/plain": [
              "device(type='cuda', index=0)"
            ]
          },
          "metadata": {},
          "execution_count": 4
        }
      ]
    },
    {
      "cell_type": "code",
      "metadata": {
        "id": "KmHYTDT7jr8B"
      },
      "source": [
        "def read_MNIST(bs_train: int, bs_test: int, mode: str = 'zad2a'):\n",
        "    if mode == 'zad2a':\n",
        "        transformation_pipeline = torchvision.transforms.Compose([\n",
        "            torchvision.transforms.ToTensor(),\n",
        "        ])\n",
        "    elif mode == 'zad2b':\n",
        "        transformation_pipeline = torchvision.transforms.Compose([\n",
        "            torchvision.transforms.ToTensor(),\n",
        "            torchvision.transforms.Normalize((0.1307,), (0.3081,))\n",
        "        ])\n",
        "    else:\n",
        "        raise\n",
        "\n",
        "    train_dataset = torchvision.datasets.MNIST('./',\n",
        "                                               train=True,\n",
        "                                               download=True,\n",
        "                                               transform=transformation_pipeline)\n",
        "    train_dataset, valid_dataset = torch.utils.data.random_split(train_dataset,\n",
        "                                                                 [50000, 10000])\n",
        "    train_loader = torch.utils.data.DataLoader(train_dataset,\n",
        "                                               batch_size=batch_size_train,\n",
        "                                               shuffle=True,\n",
        "                                               worker_init_fn=np.random.seed(RANDOM_SEED))\n",
        "    valid_loader = torch.utils.data.DataLoader(valid_dataset,\n",
        "                                               batch_size=batch_size_train,\n",
        "                                               shuffle=True,\n",
        "                                               worker_init_fn=np.random.seed(RANDOM_SEED))\n",
        "\n",
        "    test_dataset = torchvision.datasets.MNIST('./',\n",
        "                                              train=False,\n",
        "                                              download=True,\n",
        "                                              transform=transformation_pipeline)\n",
        "    test_loader = torch.utils.data.DataLoader(test_dataset,\n",
        "                                              batch_size=batch_size_test,\n",
        "                                              shuffle=True,\n",
        "                                               worker_init_fn=np.random.seed(RANDOM_SEED))\n",
        "\n",
        "    if mode == 'zad2a':\n",
        "        return list(train_loader)[:15], list(valid_loader)[:60], test_loader\n",
        "    elif mode == 'zad2b':\n",
        "        return list(train_loader)[:500], valid_loader, test_loader\n",
        "    else:\n",
        "        raise"
      ],
      "execution_count": 5,
      "outputs": []
    },
    {
      "cell_type": "code",
      "metadata": {
        "id": "DNAIjil6dV42"
      },
      "source": [
        "class Clean20NewsGroup:\n",
        "    @staticmethod\n",
        "    def clean_20newsgroup(dataset: list):\n",
        "        stopword_list = list(set(stopwords.words('english')))+[\"'m\", \"'ll\", \"'d\", \"'ve\"]\n",
        "        dataset = [Clean20NewsGroup.clean_starting_lines(post) for post in dataset]\n",
        "        dataset = [Clean20NewsGroup.delete_stopwords(post, stopword_list) for post in dataset]\n",
        "        dataset = [Clean20NewsGroup.clean_special_chars(post) for post in dataset]\n",
        "        dataset = [Clean20NewsGroup.clean_duplicate_whitespaces(post) for post in dataset]\n",
        "        dataset = [post.lower() for post in dataset]\n",
        "        return dataset\n",
        "\n",
        "    @staticmethod\n",
        "    def clean_duplicate_whitespaces(post: str):\n",
        "        return re.sub('[ ]+', ' ', post)\n",
        "\n",
        "    @staticmethod\n",
        "    def clean_special_chars(post: str):\n",
        "        return re.sub('[^A-Za-z0-9 .,?!-]+', '', post)\n",
        "\n",
        "    @staticmethod\n",
        "    def delete_stopwords(post: str, stopword_list: list):\n",
        "        word_tokens = word_tokenize(post)\n",
        "        return ' '.join([w for w in word_tokens if not w in stopword_list])\n",
        "\n",
        "    @staticmethod\n",
        "    def clean_starting_lines(post: str):\n",
        "        to_remove = ('From:', 'Subject:', 'Reply-To:', 'In-Reply-To:', 'Nntp-Posting-Host:', 'Organization:', 'X-Mailer:', 'In article <', 'Lines:', 'NNTP-Posting-Host:', 'Summary:', 'Article-I.D.:', 'Distribution:')\n",
        "        return ' '.join([line.strip() for line in post.splitlines() if (not line.startswith(to_remove)) and (len(line)!=0)])"
      ],
      "execution_count": 6,
      "outputs": []
    },
    {
      "cell_type": "code",
      "metadata": {
        "id": "uWmw97fDpmgI"
      },
      "source": [
        "class VanillaNet(nn.Module):\n",
        "    def __init__(self, hidden_size: int):\n",
        "        super(VanillaNet, self).__init__()\n",
        "        self.flatten = nn.Flatten()\n",
        "        self.fc1 = nn.Linear(28*28, hidden_size)\n",
        "        self.fc2 = nn.Linear(hidden_size, 10)\n",
        "        self.softmax = nn.Softmax(dim=1)\n",
        "\n",
        "    def forward(self, x):\n",
        "        x = self.flatten(x)\n",
        "        x = F.relu(self.fc1(x))\n",
        "        x = self.softmax(self.fc2(x))\n",
        "        return x"
      ],
      "execution_count": 7,
      "outputs": []
    },
    {
      "cell_type": "code",
      "metadata": {
        "id": "tv9o90kiY5F0"
      },
      "source": [
        "class ConvNet(nn.Module):\n",
        "    def __init__(self, hidden_size: int):\n",
        "        super(ConvNet, self).__init__()\n",
        "        self.conv1 = nn.Conv2d(1, 10, kernel_size=5)\n",
        "        self.conv2 = nn.Conv2d(10, 20, kernel_size=5)\n",
        "        self.dropout2d = nn.Dropout2d()\n",
        "        self.flatten = nn.Flatten()\n",
        "        self.fc1 = nn.Linear(320, hidden_size)\n",
        "        self.fc2 = nn.Linear(hidden_size, 10)\n",
        "\n",
        "    def forward(self, x):\n",
        "        x = F.relu(F.max_pool2d(self.conv1(x), 2))\n",
        "        x = F.relu(F.max_pool2d(self.dropout2d(self.conv2(x)), 2))\n",
        "        x = self.flatten(x)\n",
        "        x = F.relu(self.fc1(x))\n",
        "        x = F.dropout(x, training=self.training)\n",
        "        x = self.fc2(x)\n",
        "        return x"
      ],
      "execution_count": 8,
      "outputs": []
    },
    {
      "cell_type": "code",
      "metadata": {
        "id": "fyJTOQRxQZmD"
      },
      "source": [
        "class USEEmbeddingVectorizer(object):\n",
        "    def __init__(self):\n",
        "        self.embed = hub.load(\"https://tfhub.dev/google/universal-sentence-encoder/4\")\n",
        "        self.batch_size = 5\n",
        "\n",
        "    def fit(self, X, y):\n",
        "        return self\n",
        "\n",
        "    def transform(self, X):\n",
        "        X_embedded = []\n",
        "        [X_embedded.extend(self.embed(btc)) for btc in self.batch(X, self.batch_size)]\n",
        "        return X_embedded\n",
        "\n",
        "    @staticmethod\n",
        "    def batch(iterable, n=1):\n",
        "        l = len(iterable)\n",
        "        for ndx in range(0, l, n):\n",
        "            yield iterable[ndx:min(ndx + n, l)]"
      ],
      "execution_count": 9,
      "outputs": []
    },
    {
      "cell_type": "code",
      "metadata": {
        "id": "DtloPa8SRumm"
      },
      "source": [
        "class EarlyStopping:\n",
        "\n",
        "    \"\"\"Early stops the training if validation loss doesn't improve after a given patience.\"\"\"\n",
        "    def __init__(self, patience=7, verbose=False, delta=0, path='checkpoint.pt', trace_func=print):\n",
        "        \"\"\"\n",
        "        Args:\n",
        "            patience (int): How long to wait after last time validation loss improved.\n",
        "                            Default: 7\n",
        "            verbose (bool): If True, prints a message for each validation loss improvement.\n",
        "                            Default: False\n",
        "            delta (float): Minimum change in the monitored quantity to qualify as an improvement.\n",
        "                            Default: 0\n",
        "            path (str): Path for the checkpoint to be saved to.\n",
        "                            Default: 'checkpoint.pt'\n",
        "            trace_func (function): trace print function.\n",
        "                            Default: print\n",
        "        \"\"\"\n",
        "        self.patience = patience\n",
        "        self.verbose = verbose\n",
        "        self.counter = 0\n",
        "        self.best_score = None\n",
        "        self.early_stop = False\n",
        "        self.val_loss_min = np.Inf\n",
        "        self.delta = delta\n",
        "        self.path = path\n",
        "        self.trace_func = trace_func\n",
        "    def __call__(self, val_loss, model):\n",
        "\n",
        "        score = -val_loss\n",
        "\n",
        "        if self.best_score is None:\n",
        "            self.best_score = score\n",
        "            self.save_checkpoint(val_loss, model)\n",
        "        elif score < self.best_score + self.delta:\n",
        "            self.counter += 1\n",
        "            if self.verbose:\n",
        "                self.trace_func(f'EarlyStopping counter: {self.counter} out of {self.patience}')\n",
        "            if self.counter >= self.patience:\n",
        "                self.early_stop = True\n",
        "        else:\n",
        "            self.best_score = score\n",
        "            self.save_checkpoint(val_loss, model)\n",
        "            self.counter = 0\n",
        "\n",
        "    def save_checkpoint(self, val_loss, model):\n",
        "        '''Saves model when validation loss decrease.'''\n",
        "        if self.verbose:\n",
        "            self.trace_func(f'Validation loss decreased ({self.val_loss_min:.6f} --> {val_loss:.6f}).  Saving model ...')\n",
        "        torch.save(model.state_dict(), self.path)\n",
        "        self.val_loss_min = val_loss\n",
        "\n",
        "def train_model(model: torch.nn.Module, verbose: bool = False):\n",
        "\n",
        "    # to track the training loss as the model trains\n",
        "    train_losses = []\n",
        "    # to track the validation loss as the model trains\n",
        "    valid_losses = []\n",
        "    # to track the average training loss per epoch as the model trains\n",
        "    avg_train_losses = []\n",
        "    # to track the average validation loss per epoch as the model trains\n",
        "    avg_valid_losses = []\n",
        "\n",
        "    all_train_losses = []\n",
        "    all_valid_losses = []\n",
        "\n",
        "    train_error_per_epoch = []\n",
        "    valid_error_per_epoch = []\n",
        "\n",
        "    # accuracy numerator\n",
        "    correct_train = 0\n",
        "    acc_all_train = 0\n",
        "    correct_valid = 0\n",
        "    acc_all_valid = 0\n",
        "\n",
        "    # initialize the early_stopping object\n",
        "    early_stopping = EarlyStopping(patience=PATIENCE, verbose=verbose)\n",
        "\n",
        "    for epoch in range(1, NUM_EPOCHS + 1):\n",
        "\n",
        "        ###################\n",
        "        # train the model #\n",
        "        ###################\n",
        "        model.train()\n",
        "        for batch, (input, target) in enumerate(train_loader, 1):\n",
        "            input = input.to(DEVICE)\n",
        "            target = target.to(DEVICE)\n",
        "            optimizer.zero_grad()\n",
        "            output = model(input)\n",
        "            loss = criterion(output, target)\n",
        "            loss.backward()\n",
        "            optimizer.step()\n",
        "            train_losses.append(loss.item())\n",
        "\n",
        "            _, pred = torch.max(output, 1)\n",
        "            correct = np.squeeze(pred.eq(target.data.view_as(pred)))\n",
        "            correct_train += correct.sum().item()\n",
        "            acc_all_train += correct.shape[0]\n",
        "\n",
        "        ######################\n",
        "        # validate the model #\n",
        "        ######################\n",
        "        model.eval()\n",
        "        for input, target in valid_loader:\n",
        "            input = input.to(DEVICE)\n",
        "            target = target.to(DEVICE)\n",
        "            output = model(input)\n",
        "            loss = criterion(output, target)\n",
        "            # record validation loss\n",
        "            valid_losses.append(loss.item())\n",
        "\n",
        "            _, pred = torch.max(output, 1)\n",
        "            correct = np.squeeze(pred.eq(target.data.view_as(pred)))\n",
        "            correct_valid += correct.sum().item()\n",
        "            acc_all_valid += correct.shape[0]\n",
        "\n",
        "        # print training/validation statistics\n",
        "        # calculate average loss over an epoch\n",
        "        train_loss = np.average(train_losses)\n",
        "        valid_loss = np.average(valid_losses)\n",
        "        avg_train_losses.append(train_loss)\n",
        "        avg_valid_losses.append(valid_loss)\n",
        "\n",
        "        # calculate accuracy per epoch\n",
        "        train_acc = correct_train/acc_all_train\n",
        "        valid_acc = correct_valid/acc_all_valid\n",
        "\n",
        "        epoch_len = len(str(NUM_EPOCHS))\n",
        "\n",
        "        if verbose:\n",
        "            print_msg = (f'[{epoch:>{epoch_len}}/{NUM_EPOCHS:>{epoch_len}}] | ' +\n",
        "                        f'train_loss: {train_loss:.5f} ' +\n",
        "                        f'valid_loss: {valid_loss:.5f} | ' +\n",
        "                        f'train_acc: {100*train_acc:.2f}% ' +\n",
        "                        f'valid_acc: {100*valid_acc:.2f}%')\n",
        "            print(print_msg)\n",
        "\n",
        "        all_train_losses.extend(train_losses)\n",
        "        all_valid_losses.extend(valid_losses)\n",
        "\n",
        "        train_error_per_epoch.append(100-100*correct_train/acc_all_train)\n",
        "        valid_error_per_epoch.append(100-100*correct_valid/acc_all_valid)\n",
        "\n",
        "        train_losses = []\n",
        "        valid_losses = []\n",
        "        correct_train = 0\n",
        "        acc_all_train = 0\n",
        "        correct_valid = 0\n",
        "        acc_all_valid = 0\n",
        "\n",
        "        early_stopping(valid_loss, model)\n",
        "\n",
        "        if early_stopping.early_stop and verbose:\n",
        "            print(\"Early stopping\")\n",
        "            break\n",
        "\n",
        "        scheduler.step()\n",
        "\n",
        "    # load the last checkpoint with the best model\n",
        "    model.load_state_dict(torch.load('checkpoint.pt'))\n",
        "\n",
        "    return  model, avg_train_losses, avg_valid_losses, all_train_losses, all_valid_losses, train_error_per_epoch, valid_error_per_epoch\n",
        "\n",
        "def test_model(model: torch.nn.Module, verbose: bool = False):\n",
        "    test_loss = 0.0\n",
        "    class_correct = list(0. for i in range(NUM_CLASSES))\n",
        "    class_total = list(0. for i in range(NUM_CLASSES))\n",
        "    predictions_total = []\n",
        "    targets_total = []\n",
        "\n",
        "    model.eval()\n",
        "    for input, target in test_loader:\n",
        "        if len(target.data) != batch_size_test:\n",
        "            break\n",
        "        input = input.to(DEVICE)\n",
        "        target = target.to(DEVICE)\n",
        "        output = model(input)\n",
        "        loss = criterion(output, target)\n",
        "        test_loss += loss.item()*input.size(0)\n",
        "        _, pred = torch.max(output, 1)\n",
        "        correct = np.squeeze(pred.eq(target.data.view_as(pred)))\n",
        "        for i in range(batch_size_test):\n",
        "            label = target.data[i]\n",
        "            class_correct[label] += correct[i].item()\n",
        "            class_total[label] += 1\n",
        "            predictions_total.append(pred[i].item())\n",
        "            targets_total.append(target[i].item())\n",
        "\n",
        "    test_loss = test_loss/len(test_loader.dataset)\n",
        "    test_acc = 100. * np.sum(class_correct) / np.sum(class_total)\n",
        "\n",
        "    if verbose:\n",
        "        msg = 'Test Loss: {:.6f}\\n'.format(test_loss)\n",
        "        print(msg)\n",
        "\n",
        "        for i in range(NUM_CLASSES):\n",
        "            if class_total[i] > 0:\n",
        "                print('Test precision of %1s: %4d%% (%2d/%2d)' % (\n",
        "                    str(classes[i]), 100 * class_correct[i] / class_total[i],\n",
        "                    np.sum(class_correct[i]), np.sum(class_total[i])))\n",
        "            else:\n",
        "                print('Test Accuracy of %5s: N/A (no training examples)' % (classes[i]))\n",
        "\n",
        "        msg = '\\nTest Accuracy (Overall): %2d%% (%2d/%2d)' % (test_acc,\n",
        "                                                              np.sum(class_correct),\n",
        "                                                              np.sum(class_total))\n",
        "        print(msg)\n",
        "\n",
        "    return predictions_total, targets_total, 100-test_acc"
      ],
      "execution_count": 10,
      "outputs": []
    },
    {
      "cell_type": "code",
      "metadata": {
        "id": "tS6W8FkxIgng"
      },
      "source": [
        "class RegressScoring:\n",
        "    def __init__(self, y_true, y_pred, x):\n",
        "        self.y_pred = y_pred\n",
        "        self.y_true = y_true\n",
        "        self.x = x\n",
        "\n",
        "    def score(self, model):\n",
        "        mse = self.mean_sqr_error(self.y_true, self.y_pred)\n",
        "        mape = self.mean_avg_per_error(self.y_true, self.y_pred)\n",
        "        model_score = self.model_scoring(self.x, self.y_true, model)\n",
        "        return mse, mape, model_score\n",
        "\n",
        "    @staticmethod\n",
        "    def mean_avg_per_error(y_true, y_pred):\n",
        "        # y_true, y_pred = check_array(y_true, y_pred)\n",
        "        return np.mean(np.abs((y_true - y_pred) / y_true)) * 100\n",
        "\n",
        "    @staticmethod\n",
        "    def mean_sqr_error(y_true, y_pred):\n",
        "        return mean_squared_error(y_true, y_pred)\n",
        "\n",
        "    @staticmethod\n",
        "    def model_scoring(x, y_true, model):\n",
        "        return model.score(x, y_true)"
      ],
      "execution_count": 11,
      "outputs": []
    },
    {
      "cell_type": "code",
      "metadata": {
        "id": "d3P_ln_idZQ2"
      },
      "source": [
        "class ClassifyScoring:\n",
        "    def __init__(self, y_true, y_pred, target_names, verbose=False):\n",
        "        self.y_pred = y_pred\n",
        "        self.y_true = y_true\n",
        "        self.target_names = target_names\n",
        "        self.verbose = verbose\n",
        "\n",
        "    def print_report(self):\n",
        "        print('='*5, 'CLASSIFICATION REPORT', '='*5)\n",
        "        print(classification_report(self.y_true, self.y_pred, target_names=self.target_names))\n",
        "\n",
        "    def conf_mat(self):\n",
        "        if self.verbose==True:\n",
        "            self.plot_conf_mat()\n",
        "        return confusion_matrix(self.y_true, self.y_pred)\n",
        "\n",
        "    def plot_conf_mat(self):\n",
        "        fig = plt.figure(figsize=(10,10))\n",
        "        cm = confusion_matrix(self.y_true, self.y_pred)\n",
        "        sn.heatmap(cm, annot=True, fmt='g', cmap='Blues', square=True, xticklabels=self.target_names, yticklabels=self.target_names)\n",
        "        plt.title('Confusion matrix')\n",
        "        plt.xlabel('Predicted label')\n",
        "        plt.ylabel('True label')\n",
        "        plt.show()\n",
        "\n",
        "    def score(self):\n",
        "        if self.verbose == True:\n",
        "            print('='*5, 'TESTING RESULTS', '='*5)\n",
        "            display(pd.DataFrame({\n",
        "                'ACC': accuracy_score(self.y_true, self.y_pred),\n",
        "                'PREC': precision_score(self.y_true, self.y_pred, average='weighted'),\n",
        "                'REC': recall_score(self.y_true, self.y_pred, average='weighted'),\n",
        "                'F1': f1_score(self.y_true, self.y_pred, average='weighted')\n",
        "            }, index=[0]))\n",
        "        return [accuracy_score(self.y_true, self.y_pred),\n",
        "                precision_score(self.y_true, self.y_pred, average='weighted'),\n",
        "                recall_score(self.y_true, self.y_pred, average='weighted'),\n",
        "                f1_score(self.y_true, self.y_pred, average='weighted')]"
      ],
      "execution_count": 12,
      "outputs": []
    },
    {
      "cell_type": "code",
      "metadata": {
        "id": "49Mwyed1Z2Mw"
      },
      "source": [
        "def plot_learning_curves(train_loss: list, valid_loss: list, all_train_losses: list, all_valid_losses: list):\n",
        "\n",
        "    max_loss = np.max(all_train_losses + all_valid_losses)\n",
        "\n",
        "    fig = plt.figure(num=3, figsize=(10,4))\n",
        "    plt.plot(range(1,len(train_loss)+1), train_loss, label='Training Loss')\n",
        "    plt.plot(range(1,len(valid_loss)+1), valid_loss, label='Validation Loss')\n",
        "    minposs = valid_loss.index(min(valid_loss))+1\n",
        "    plt.axvline(minposs, linestyle='--', color='r', label='Early Stopping Checkpoint')\n",
        "    plt.xlabel('epochs')\n",
        "    plt.ylabel('loss')\n",
        "    plt.ylim(0, max_loss)\n",
        "    plt.xlim(0, len(train_loss)+1)\n",
        "    plt.grid(True)\n",
        "    plt.title('Loss per epoch')\n",
        "    plt.legend(loc='upper right')\n",
        "    plt.tight_layout()\n",
        "\n",
        "    fig, ax = plt.subplots(2,1,num=4, figsize=(10,8))\n",
        "    ax[0].plot(range(1,len(all_train_losses)+1), all_train_losses, label='Training Loss')\n",
        "    for idx in range(NUM_EPOCHS):\n",
        "        ax[0].axvline(idx*len(all_train_losses)/(len(train_loss)+1), linestyle='--', color='lightgray')\n",
        "    ax[0].set_ylabel('loss')\n",
        "    ax[0].set_ylim(0, max_loss)\n",
        "    ax[0].set_xlim(0, len(all_train_losses)+1)\n",
        "    ax[0].grid(True)\n",
        "    ax[0].set_title('Loss per batch')\n",
        "    ax[0].legend(loc='upper right')\n",
        "\n",
        "    ax[1].plot(range(1,len(all_valid_losses)+1), all_valid_losses, label='Validation Loss', color='orange')\n",
        "    for idx in range(NUM_EPOCHS):\n",
        "        plt.axvline(idx*len(all_valid_losses)/(len(train_loss)+1), linestyle='--', color='lightgray')\n",
        "    ax[1].set_xlabel('batches')\n",
        "    ax[1].set_ylabel('loss')\n",
        "    ax[1].set_ylim(0, max_loss)\n",
        "    ax[1].set_xlim(0, len(all_valid_losses)+1)\n",
        "    ax[1].grid(True)\n",
        "    ax[1].legend(loc='upper right')\n",
        "    plt.tight_layout()\n",
        "    plt.show()"
      ],
      "execution_count": 13,
      "outputs": []
    },
    {
      "cell_type": "code",
      "metadata": {
        "id": "U8jxMMIGkPfH"
      },
      "source": [
        "def show_example_predictions(model: torch.nn.Module):\n",
        "    dataiter = iter(test_loader)\n",
        "    images, labels = next(dataiter)[:]\n",
        "    images = images.to(DEVICE)\n",
        "    labels = labels.to(DEVICE)\n",
        "\n",
        "    outputs = model(images)\n",
        "    _, preds = torch.max(outputs.data, 1)\n",
        "\n",
        "    fig = plt.figure(figsize=(25, 4))\n",
        "    for idx in np.arange(batch_size_test):\n",
        "        ax = fig.add_subplot(2, int(batch_size_test/2), idx+1, xticks=[], yticks=[])\n",
        "        ax.imshow(np.squeeze(images[idx].cpu().numpy()), cmap='gray')\n",
        "        ax.set_title(\"{} ({})\".format(str(classes[preds[idx].item()]), str(classes[labels[idx].item()])),\n",
        "                    color=(\"green\" if preds[idx]==labels[idx] else \"red\"))\n",
        "    plt.suptitle('Example predictions on single batch from testing set')\n",
        "    plt.tight_layout()\n",
        "    plt.show()"
      ],
      "execution_count": 14,
      "outputs": []
    },
    {
      "cell_type": "markdown",
      "metadata": {
        "id": "0Rl5xchmYjNM"
      },
      "source": [
        "## **Program ćwiczenia**\n",
        "\n",
        "Tematem laboratorium jest zagadnienie ***generalizacji***. W najprostszych słowach generalizacja to właściwe działanie systemu na danych wejściowych, które nie uczestniczyły w uczeniu (na danych testujących). Celem uczenia sieci jest taka adaptacja wag, aby na podstawie próbek uczących (które dobrze reprezentują modelowany proces) nauczyć się wzorców modelowanego procesu. Celem nie jest *tylko* dopasowanie się do próbek uczących.\n",
        "\n",
        "Aby zobrazować zjawisko generalizacji wyobraźmy sobie przypadek modelowania funkcji jednej zmiennej.\n",
        "\n",
        "![obraz.png](data:image/png;base64,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)\n",
        "\n",
        "Załóżmy, że czarne punkty to próbki uczące, ciemną linią zaznaczono modelowaną funkcję, a czerwoną stworzony model. Gdy mamy do czynienia z **niedouczeniem**, model zakłada zbyt duże uproszczenia, przez które utracono charakter procesu. Przypadek **przeuczenia** to stan, w którym dane uczące są idealnie odwzorowane, niestety nadmierna ekspresja modelu (zbyt duża liczba parametrów = stopni swobody) powoduje, że model jest bezużyteczny dla danych nieuczestniczących w uczeniu. Może się to objawiać generowaniem silnie zaszumionych wartości, silnym rozchwianiem lub nadmiernym dopasowaniem do pojedynczych wzorców. Docelowo, proces uczenia ma doprowadzić do sytuacji gdy model jest w stanie w miarę dokładnie odtwarzać dane uczące, ale równocześnie uchwyca bardziej generalne trendy i wzorce w danych wejściowych.\n",
        "\n",
        "Inna definicja wykorzystuje 2 inne, bardziej ogólne pojęcia:\n",
        "- **bias** (obciążenie) - uproszczenia poczynione przez model na poczatku uczenia, aby problem był jak najprosciej rozwiazywalny,\n",
        "- **variance** (wariancja) - jak bardzo musi zostac zmienione wyjście przy minimalnej zmianie wejscia (miara lokalnej *chwiejności/stabilności* modelu)  \n",
        "\n",
        "Obydwa te człony stoją względem siebie w opozycji - zazwyczaj walcząc o obniżenie jednej wartości, podwyższamy drugą, dlatego należy dbać o kompromis (w literaturze spotkacie się Państwo z określeniem *bias-variance trade-off*).\n",
        "\n",
        "![obraz.png](data:image/png;base64,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)\n",
        "\n",
        "Aby dogłębnie zaznajomić się z pojęciem generalizacji zrealizujecie Państwo 3 ćwiczenia:\n",
        "- **Zadanie 1** Zadanie regresji\n",
        "    - Boston House Pricing dataset\n",
        "    - Zadanie 1a Generalizacja vs. wielkość modelu\n",
        "    - Zadanie 1b Generalizacja vs. hiperparametry modelu\n",
        "- **Zadanie 2** Zadanie klasyfikacji - Wizja komputerowa\n",
        "    - MNIST dataset\n",
        "    - Zadanie 2a Generalizacja vs. wielkość modelu\n",
        "    - Zadanie 2b Generalizacja vs. ekspresywność modelu i uwarunkowanie procesu uczenia\n",
        "- \\* **Zadanie 3** Zadanie klasyfikacji - Przetwarzanie języka naturalnego \\* - dla chętnych\n",
        "    - 20NewsGroup dataset\n",
        "    - Zadanie 3 Generalizacja vs. jakość ekstraktora cech\n"
      ]
    },
    {
      "cell_type": "markdown",
      "metadata": {
        "id": "dKyDVRQNJ8GK"
      },
      "source": [
        "### **Zadanie 1** Zadanie regresji\n",
        "\n",
        "Pierwsze ćwiczenie będzie prezentować zagadnienie generalizacji na przykładzie problemu **regresji** z wykorzystaniem **drzew decyzyjnych**."
      ]
    },
    {
      "cell_type": "markdown",
      "metadata": {
        "id": "04DSOjNq11Kv"
      },
      "source": [
        "#### Boston House Pricing dataset\n",
        "\n",
        "W ćwiczeniu będziemy budować modele regresji z użyciem danych ze zbioru Boston House Price Prediction challenge (więcej o tym zbiorze danych można poczytać np. [tutaj](https://www.cs.toronto.edu/~delve/data/boston/bostonDetail.html)).\n",
        "\n",
        "Zacznijmy od zapoznania się ze zbiorym danych (proszę zwrócić uwagę na opis 13 cech oraz rozpoznać 1 zmienną objaśnianą (ang. *target*)):"
      ]
    },
    {
      "cell_type": "code",
      "metadata": {
        "id": "giUyJdnD100h",
        "colab": {
          "base_uri": "https://localhost:8080/",
          "height": 224
        },
        "outputId": "988da851-d4d1-409f-e7cb-0e83e37a07ec"
      },
      "source": [
        "# Load dataset\n",
        "# dataset = load_boston() # load_boston has been removed from scikit-learn since version 1.2\n",
        "# Instead, use the data you have already loaded:\n",
        "dataset = {\n",
        "    'data': data,\n",
        "    'target': target,\n",
        "    'feature_names': ['CRIM', 'ZN', 'INDUS', 'CHAS', 'NOX', 'RM', 'AGE', 'DIS', 'RAD', 'TAX', 'PTRATIO', 'B', 'LSTAT'], #  Add feature names for consistency with the original load_boston\n",
        "    'DESCR': 'Boston house prices dataset, manually loaded from http://lib.stat.cmu.edu/datasets/boston'  # Add a description\n",
        "}\n",
        "\n",
        "# Show dataset description\n",
        "print(dataset['DESCR'])\n",
        "\n",
        "# Transform dataset into pd.DataFrame\n",
        "boston_df = pd.DataFrame(dataset['data'])\n",
        "boston_df.columns = dataset['feature_names']\n",
        "boston_df['TARGET'] = pd.DataFrame(dataset['target'])\n",
        "boston_df.head()"
      ],
      "execution_count": 18,
      "outputs": [
        {
          "output_type": "stream",
          "name": "stdout",
          "text": [
            "Boston house prices dataset, manually loaded from http://lib.stat.cmu.edu/datasets/boston\n"
          ]
        },
        {
          "output_type": "execute_result",
          "data": {
            "text/plain": [
              "      CRIM    ZN  INDUS  CHAS    NOX     RM   AGE     DIS  RAD    TAX  \\\n",
              "0  0.00632  18.0   2.31   0.0  0.538  6.575  65.2  4.0900  1.0  296.0   \n",
              "1  0.02731   0.0   7.07   0.0  0.469  6.421  78.9  4.9671  2.0  242.0   \n",
              "2  0.02729   0.0   7.07   0.0  0.469  7.185  61.1  4.9671  2.0  242.0   \n",
              "3  0.03237   0.0   2.18   0.0  0.458  6.998  45.8  6.0622  3.0  222.0   \n",
              "4  0.06905   0.0   2.18   0.0  0.458  7.147  54.2  6.0622  3.0  222.0   \n",
              "\n",
              "   PTRATIO       B  LSTAT  TARGET  \n",
              "0     15.3  396.90   4.98    24.0  \n",
              "1     17.8  396.90   9.14    21.6  \n",
              "2     17.8  392.83   4.03    34.7  \n",
              "3     18.7  394.63   2.94    33.4  \n",
              "4     18.7  396.90   5.33    36.2  "
            ],
            "text/html": [
              "\n",
              "  <div id=\"df-7f000cc4-be6d-46ef-a424-9e3d17c598ee\" class=\"colab-df-container\">\n",
              "    <div>\n",
              "<style scoped>\n",
              "    .dataframe tbody tr th:only-of-type {\n",
              "        vertical-align: middle;\n",
              "    }\n",
              "\n",
              "    .dataframe tbody tr th {\n",
              "        vertical-align: top;\n",
              "    }\n",
              "\n",
              "    .dataframe thead th {\n",
              "        text-align: right;\n",
              "    }\n",
              "</style>\n",
              "<table border=\"1\" class=\"dataframe\">\n",
              "  <thead>\n",
              "    <tr style=\"text-align: right;\">\n",
              "      <th></th>\n",
              "      <th>CRIM</th>\n",
              "      <th>ZN</th>\n",
              "      <th>INDUS</th>\n",
              "      <th>CHAS</th>\n",
              "      <th>NOX</th>\n",
              "      <th>RM</th>\n",
              "      <th>AGE</th>\n",
              "      <th>DIS</th>\n",
              "      <th>RAD</th>\n",
              "      <th>TAX</th>\n",
              "      <th>PTRATIO</th>\n",
              "      <th>B</th>\n",
              "      <th>LSTAT</th>\n",
              "      <th>TARGET</th>\n",
              "    </tr>\n",
              "  </thead>\n",
              "  <tbody>\n",
              "    <tr>\n",
              "      <th>0</th>\n",
              "      <td>0.00632</td>\n",
              "      <td>18.0</td>\n",
              "      <td>2.31</td>\n",
              "      <td>0.0</td>\n",
              "      <td>0.538</td>\n",
              "      <td>6.575</td>\n",
              "      <td>65.2</td>\n",
              "      <td>4.0900</td>\n",
              "      <td>1.0</td>\n",
              "      <td>296.0</td>\n",
              "      <td>15.3</td>\n",
              "      <td>396.90</td>\n",
              "      <td>4.98</td>\n",
              "      <td>24.0</td>\n",
              "    </tr>\n",
              "    <tr>\n",
              "      <th>1</th>\n",
              "      <td>0.02731</td>\n",
              "      <td>0.0</td>\n",
              "      <td>7.07</td>\n",
              "      <td>0.0</td>\n",
              "      <td>0.469</td>\n",
              "      <td>6.421</td>\n",
              "      <td>78.9</td>\n",
              "      <td>4.9671</td>\n",
              "      <td>2.0</td>\n",
              "      <td>242.0</td>\n",
              "      <td>17.8</td>\n",
              "      <td>396.90</td>\n",
              "      <td>9.14</td>\n",
              "      <td>21.6</td>\n",
              "    </tr>\n",
              "    <tr>\n",
              "      <th>2</th>\n",
              "      <td>0.02729</td>\n",
              "      <td>0.0</td>\n",
              "      <td>7.07</td>\n",
              "      <td>0.0</td>\n",
              "      <td>0.469</td>\n",
              "      <td>7.185</td>\n",
              "      <td>61.1</td>\n",
              "      <td>4.9671</td>\n",
              "      <td>2.0</td>\n",
              "      <td>242.0</td>\n",
              "      <td>17.8</td>\n",
              "      <td>392.83</td>\n",
              "      <td>4.03</td>\n",
              "      <td>34.7</td>\n",
              "    </tr>\n",
              "    <tr>\n",
              "      <th>3</th>\n",
              "      <td>0.03237</td>\n",
              "      <td>0.0</td>\n",
              "      <td>2.18</td>\n",
              "      <td>0.0</td>\n",
              "      <td>0.458</td>\n",
              "      <td>6.998</td>\n",
              "      <td>45.8</td>\n",
              "      <td>6.0622</td>\n",
              "      <td>3.0</td>\n",
              "      <td>222.0</td>\n",
              "      <td>18.7</td>\n",
              "      <td>394.63</td>\n",
              "      <td>2.94</td>\n",
              "      <td>33.4</td>\n",
              "    </tr>\n",
              "    <tr>\n",
              "      <th>4</th>\n",
              "      <td>0.06905</td>\n",
              "      <td>0.0</td>\n",
              "      <td>2.18</td>\n",
              "      <td>0.0</td>\n",
              "      <td>0.458</td>\n",
              "      <td>7.147</td>\n",
              "      <td>54.2</td>\n",
              "      <td>6.0622</td>\n",
              "      <td>3.0</td>\n",
              "      <td>222.0</td>\n",
              "      <td>18.7</td>\n",
              "      <td>396.90</td>\n",
              "      <td>5.33</td>\n",
              "      <td>36.2</td>\n",
              "    </tr>\n",
              "  </tbody>\n",
              "</table>\n",
              "</div>\n",
              "    <div class=\"colab-df-buttons\">\n",
              "\n",
              "  <div class=\"colab-df-container\">\n",
              "    <button class=\"colab-df-convert\" onclick=\"convertToInteractive('df-7f000cc4-be6d-46ef-a424-9e3d17c598ee')\"\n",
              "            title=\"Convert this dataframe to an interactive table.\"\n",
              "            style=\"display:none;\">\n",
              "\n",
              "  <svg xmlns=\"http://www.w3.org/2000/svg\" height=\"24px\" viewBox=\"0 -960 960 960\">\n",
              "    <path d=\"M120-120v-720h720v720H120Zm60-500h600v-160H180v160Zm220 220h160v-160H400v160Zm0 220h160v-160H400v160ZM180-400h160v-160H180v160Zm440 0h160v-160H620v160ZM180-180h160v-160H180v160Zm440 0h160v-160H620v160Z\"/>\n",
              "  </svg>\n",
              "    </button>\n",
              "\n",
              "  <style>\n",
              "    .colab-df-container {\n",
              "      display:flex;\n",
              "      gap: 12px;\n",
              "    }\n",
              "\n",
              "    .colab-df-convert {\n",
              "      background-color: #E8F0FE;\n",
              "      border: none;\n",
              "      border-radius: 50%;\n",
              "      cursor: pointer;\n",
              "      display: none;\n",
              "      fill: #1967D2;\n",
              "      height: 32px;\n",
              "      padding: 0 0 0 0;\n",
              "      width: 32px;\n",
              "    }\n",
              "\n",
              "    .colab-df-convert:hover {\n",
              "      background-color: #E2EBFA;\n",
              "      box-shadow: 0px 1px 2px rgba(60, 64, 67, 0.3), 0px 1px 3px 1px rgba(60, 64, 67, 0.15);\n",
              "      fill: #174EA6;\n",
              "    }\n",
              "\n",
              "    .colab-df-buttons div {\n",
              "      margin-bottom: 4px;\n",
              "    }\n",
              "\n",
              "    [theme=dark] .colab-df-convert {\n",
              "      background-color: #3B4455;\n",
              "      fill: #D2E3FC;\n",
              "    }\n",
              "\n",
              "    [theme=dark] .colab-df-convert:hover {\n",
              "      background-color: #434B5C;\n",
              "      box-shadow: 0px 1px 3px 1px rgba(0, 0, 0, 0.15);\n",
              "      filter: drop-shadow(0px 1px 2px rgba(0, 0, 0, 0.3));\n",
              "      fill: #FFFFFF;\n",
              "    }\n",
              "  </style>\n",
              "\n",
              "    <script>\n",
              "      const buttonEl =\n",
              "        document.querySelector('#df-7f000cc4-be6d-46ef-a424-9e3d17c598ee button.colab-df-convert');\n",
              "      buttonEl.style.display =\n",
              "        google.colab.kernel.accessAllowed ? 'block' : 'none';\n",
              "\n",
              "      async function convertToInteractive(key) {\n",
              "        const element = document.querySelector('#df-7f000cc4-be6d-46ef-a424-9e3d17c598ee');\n",
              "        const dataTable =\n",
              "          await google.colab.kernel.invokeFunction('convertToInteractive',\n",
              "                                                    [key], {});\n",
              "        if (!dataTable) return;\n",
              "\n",
              "        const docLinkHtml = 'Like what you see? Visit the ' +\n",
              "          '<a target=\"_blank\" href=https://colab.research.google.com/notebooks/data_table.ipynb>data table notebook</a>'\n",
              "          + ' to learn more about interactive tables.';\n",
              "        element.innerHTML = '';\n",
              "        dataTable['output_type'] = 'display_data';\n",
              "        await google.colab.output.renderOutput(dataTable, element);\n",
              "        const docLink = document.createElement('div');\n",
              "        docLink.innerHTML = docLinkHtml;\n",
              "        element.appendChild(docLink);\n",
              "      }\n",
              "    </script>\n",
              "  </div>\n",
              "\n",
              "\n",
              "    <div id=\"df-0f6ac699-7b9e-4fab-840b-650e7c22994d\">\n",
              "      <button class=\"colab-df-quickchart\" onclick=\"quickchart('df-0f6ac699-7b9e-4fab-840b-650e7c22994d')\"\n",
              "                title=\"Suggest charts\"\n",
              "                style=\"display:none;\">\n",
              "\n",
              "<svg xmlns=\"http://www.w3.org/2000/svg\" height=\"24px\"viewBox=\"0 0 24 24\"\n",
              "     width=\"24px\">\n",
              "    <g>\n",
              "        <path d=\"M19 3H5c-1.1 0-2 .9-2 2v14c0 1.1.9 2 2 2h14c1.1 0 2-.9 2-2V5c0-1.1-.9-2-2-2zM9 17H7v-7h2v7zm4 0h-2V7h2v10zm4 0h-2v-4h2v4z\"/>\n",
              "    </g>\n",
              "</svg>\n",
              "      </button>\n",
              "\n",
              "<style>\n",
              "  .colab-df-quickchart {\n",
              "      --bg-color: #E8F0FE;\n",
              "      --fill-color: #1967D2;\n",
              "      --hover-bg-color: #E2EBFA;\n",
              "      --hover-fill-color: #174EA6;\n",
              "      --disabled-fill-color: #AAA;\n",
              "      --disabled-bg-color: #DDD;\n",
              "  }\n",
              "\n",
              "  [theme=dark] .colab-df-quickchart {\n",
              "      --bg-color: #3B4455;\n",
              "      --fill-color: #D2E3FC;\n",
              "      --hover-bg-color: #434B5C;\n",
              "      --hover-fill-color: #FFFFFF;\n",
              "      --disabled-bg-color: #3B4455;\n",
              "      --disabled-fill-color: #666;\n",
              "  }\n",
              "\n",
              "  .colab-df-quickchart {\n",
              "    background-color: var(--bg-color);\n",
              "    border: none;\n",
              "    border-radius: 50%;\n",
              "    cursor: pointer;\n",
              "    display: none;\n",
              "    fill: var(--fill-color);\n",
              "    height: 32px;\n",
              "    padding: 0;\n",
              "    width: 32px;\n",
              "  }\n",
              "\n",
              "  .colab-df-quickchart:hover {\n",
              "    background-color: var(--hover-bg-color);\n",
              "    box-shadow: 0 1px 2px rgba(60, 64, 67, 0.3), 0 1px 3px 1px rgba(60, 64, 67, 0.15);\n",
              "    fill: var(--button-hover-fill-color);\n",
              "  }\n",
              "\n",
              "  .colab-df-quickchart-complete:disabled,\n",
              "  .colab-df-quickchart-complete:disabled:hover {\n",
              "    background-color: var(--disabled-bg-color);\n",
              "    fill: var(--disabled-fill-color);\n",
              "    box-shadow: none;\n",
              "  }\n",
              "\n",
              "  .colab-df-spinner {\n",
              "    border: 2px solid var(--fill-color);\n",
              "    border-color: transparent;\n",
              "    border-bottom-color: var(--fill-color);\n",
              "    animation:\n",
              "      spin 1s steps(1) infinite;\n",
              "  }\n",
              "\n",
              "  @keyframes spin {\n",
              "    0% {\n",
              "      border-color: transparent;\n",
              "      border-bottom-color: var(--fill-color);\n",
              "      border-left-color: var(--fill-color);\n",
              "    }\n",
              "    20% {\n",
              "      border-color: transparent;\n",
              "      border-left-color: var(--fill-color);\n",
              "      border-top-color: var(--fill-color);\n",
              "    }\n",
              "    30% {\n",
              "      border-color: transparent;\n",
              "      border-left-color: var(--fill-color);\n",
              "      border-top-color: var(--fill-color);\n",
              "      border-right-color: var(--fill-color);\n",
              "    }\n",
              "    40% {\n",
              "      border-color: transparent;\n",
              "      border-right-color: var(--fill-color);\n",
              "      border-top-color: var(--fill-color);\n",
              "    }\n",
              "    60% {\n",
              "      border-color: transparent;\n",
              "      border-right-color: var(--fill-color);\n",
              "    }\n",
              "    80% {\n",
              "      border-color: transparent;\n",
              "      border-right-color: var(--fill-color);\n",
              "      border-bottom-color: var(--fill-color);\n",
              "    }\n",
              "    90% {\n",
              "      border-color: transparent;\n",
              "      border-bottom-color: var(--fill-color);\n",
              "    }\n",
              "  }\n",
              "</style>\n",
              "\n",
              "      <script>\n",
              "        async function quickchart(key) {\n",
              "          const quickchartButtonEl =\n",
              "            document.querySelector('#' + key + ' button');\n",
              "          quickchartButtonEl.disabled = true;  // To prevent multiple clicks.\n",
              "          quickchartButtonEl.classList.add('colab-df-spinner');\n",
              "          try {\n",
              "            const charts = await google.colab.kernel.invokeFunction(\n",
              "                'suggestCharts', [key], {});\n",
              "          } catch (error) {\n",
              "            console.error('Error during call to suggestCharts:', error);\n",
              "          }\n",
              "          quickchartButtonEl.classList.remove('colab-df-spinner');\n",
              "          quickchartButtonEl.classList.add('colab-df-quickchart-complete');\n",
              "        }\n",
              "        (() => {\n",
              "          let quickchartButtonEl =\n",
              "            document.querySelector('#df-0f6ac699-7b9e-4fab-840b-650e7c22994d button');\n",
              "          quickchartButtonEl.style.display =\n",
              "            google.colab.kernel.accessAllowed ? 'block' : 'none';\n",
              "        })();\n",
              "      </script>\n",
              "    </div>\n",
              "\n",
              "    </div>\n",
              "  </div>\n"
            ],
            "application/vnd.google.colaboratory.intrinsic+json": {
              "type": "dataframe",
              "variable_name": "boston_df",
              "summary": "{\n  \"name\": \"boston_df\",\n  \"rows\": 506,\n  \"fields\": [\n    {\n      \"column\": \"CRIM\",\n      \"properties\": {\n        \"dtype\": \"number\",\n        \"std\": 8.601545105332487,\n        \"min\": 0.00632,\n        \"max\": 88.9762,\n        \"num_unique_values\": 504,\n        \"samples\": [\n          0.09178,\n          0.05644,\n          0.10574\n        ],\n        \"semantic_type\": \"\",\n        \"description\": \"\"\n      }\n    },\n    {\n      \"column\": \"ZN\",\n      \"properties\": {\n        \"dtype\": \"number\",\n        \"std\": 23.322452994515036,\n        \"min\": 0.0,\n        \"max\": 100.0,\n        \"num_unique_values\": 26,\n        \"samples\": [\n          25.0,\n          30.0,\n          18.0\n        ],\n        \"semantic_type\": \"\",\n        \"description\": \"\"\n      }\n    },\n    {\n      \"column\": \"INDUS\",\n      \"properties\": {\n        \"dtype\": \"number\",\n        \"std\": 6.8603529408975845,\n        \"min\": 0.46,\n        \"max\": 27.74,\n        \"num_unique_values\": 76,\n        \"samples\": [\n          8.14,\n          1.47,\n          1.22\n        ],\n        \"semantic_type\": \"\",\n        \"description\": \"\"\n      }\n    },\n    {\n      \"column\": \"CHAS\",\n      \"properties\": {\n        \"dtype\": \"number\",\n        \"std\": 0.2539940413404118,\n        \"min\": 0.0,\n        \"max\": 1.0,\n        \"num_unique_values\": 2,\n        \"samples\": [\n          1.0,\n          0.0\n        ],\n        \"semantic_type\": \"\",\n        \"description\": \"\"\n      }\n    },\n    {\n      \"column\": \"NOX\",\n      \"properties\": {\n        \"dtype\": \"number\",\n        \"std\": 0.11587767566755611,\n        \"min\": 0.385,\n        \"max\": 0.871,\n        \"num_unique_values\": 81,\n        \"samples\": [\n          0.401,\n          0.538\n        ],\n        \"semantic_type\": \"\",\n        \"description\": \"\"\n      }\n    },\n    {\n      \"column\": \"RM\",\n      \"properties\": {\n        \"dtype\": \"number\",\n        \"std\": 0.7026171434153237,\n        \"min\": 3.561,\n        \"max\": 8.78,\n        \"num_unique_values\": 446,\n        \"samples\": [\n          6.849,\n          4.88\n        ],\n        \"semantic_type\": \"\",\n        \"description\": \"\"\n      }\n    },\n    {\n      \"column\": \"AGE\",\n      \"properties\": {\n        \"dtype\": \"number\",\n        \"std\": 28.148861406903638,\n        \"min\": 2.9,\n        \"max\": 100.0,\n        \"num_unique_values\": 356,\n        \"samples\": [\n          51.8,\n          33.8\n        ],\n        \"semantic_type\": \"\",\n        \"description\": \"\"\n      }\n    },\n    {\n      \"column\": \"DIS\",\n      \"properties\": {\n        \"dtype\": \"number\",\n        \"std\": 2.1057101266276104,\n        \"min\": 1.1296,\n        \"max\": 12.1265,\n        \"num_unique_values\": 412,\n        \"samples\": [\n          2.2955,\n          4.2515\n        ],\n        \"semantic_type\": \"\",\n        \"description\": \"\"\n      }\n    },\n    {\n      \"column\": \"RAD\",\n      \"properties\": {\n        \"dtype\": \"number\",\n        \"std\": 8.707259384239377,\n        \"min\": 1.0,\n        \"max\": 24.0,\n        \"num_unique_values\": 9,\n        \"samples\": [\n          7.0,\n          2.0\n        ],\n        \"semantic_type\": \"\",\n        \"description\": \"\"\n      }\n    },\n    {\n      \"column\": \"TAX\",\n      \"properties\": {\n        \"dtype\": \"number\",\n        \"std\": 168.53711605495926,\n        \"min\": 187.0,\n        \"max\": 711.0,\n        \"num_unique_values\": 66,\n        \"samples\": [\n          370.0,\n          666.0\n        ],\n        \"semantic_type\": \"\",\n        \"description\": \"\"\n      }\n    },\n    {\n      \"column\": \"PTRATIO\",\n      \"properties\": {\n        \"dtype\": \"number\",\n        \"std\": 2.164945523714446,\n        \"min\": 12.6,\n        \"max\": 22.0,\n        \"num_unique_values\": 46,\n        \"samples\": [\n          19.6,\n          15.6\n        ],\n        \"semantic_type\": \"\",\n        \"description\": \"\"\n      }\n    },\n    {\n      \"column\": \"B\",\n      \"properties\": {\n        \"dtype\": \"number\",\n        \"std\": 91.29486438415779,\n        \"min\": 0.32,\n        \"max\": 396.9,\n        \"num_unique_values\": 357,\n        \"samples\": [\n          396.24,\n          395.11\n        ],\n        \"semantic_type\": \"\",\n        \"description\": \"\"\n      }\n    },\n    {\n      \"column\": \"LSTAT\",\n      \"properties\": {\n        \"dtype\": \"number\",\n        \"std\": 7.141061511348571,\n        \"min\": 1.73,\n        \"max\": 37.97,\n        \"num_unique_values\": 455,\n        \"samples\": [\n          6.15,\n          4.32\n        ],\n        \"semantic_type\": \"\",\n        \"description\": \"\"\n      }\n    },\n    {\n      \"column\": \"TARGET\",\n      \"properties\": {\n        \"dtype\": \"number\",\n        \"std\": 9.19710408737982,\n        \"min\": 5.0,\n        \"max\": 50.0,\n        \"num_unique_values\": 229,\n        \"samples\": [\n          14.1,\n          22.5\n        ],\n        \"semantic_type\": \"\",\n        \"description\": \"\"\n      }\n    }\n  ]\n}"
            }
          },
          "metadata": {},
          "execution_count": 18
        }
      ]
    },
    {
      "cell_type": "markdown",
      "metadata": {
        "id": "F6N6wLJsD81y"
      },
      "source": [
        "Pierwszym krokiem będzie sprawdzenie kompletności zbioru danych oraz statystyka opisowa zmiennych (pamiętajmy, że w zbiorze znajdują się zarówno zmienne kategoryczne jak i numeryczne).\n"
      ]
    },
    {
      "cell_type": "code",
      "metadata": {
        "id": "VovilVDUD6kX",
        "colab": {
          "base_uri": "https://localhost:8080/",
          "height": 338
        },
        "outputId": "6621e421-3f89-40fa-a13d-f71195b17b50"
      },
      "source": [
        "print('Dataset shape: ', boston_df.shape)\n",
        "boston_df.describe()"
      ],
      "execution_count": 19,
      "outputs": [
        {
          "output_type": "stream",
          "name": "stdout",
          "text": [
            "Dataset shape:  (506, 14)\n"
          ]
        },
        {
          "output_type": "execute_result",
          "data": {
            "text/plain": [
              "             CRIM          ZN       INDUS        CHAS         NOX          RM  \\\n",
              "count  506.000000  506.000000  506.000000  506.000000  506.000000  506.000000   \n",
              "mean     3.613524   11.363636   11.136779    0.069170    0.554695    6.284634   \n",
              "std      8.601545   23.322453    6.860353    0.253994    0.115878    0.702617   \n",
              "min      0.006320    0.000000    0.460000    0.000000    0.385000    3.561000   \n",
              "25%      0.082045    0.000000    5.190000    0.000000    0.449000    5.885500   \n",
              "50%      0.256510    0.000000    9.690000    0.000000    0.538000    6.208500   \n",
              "75%      3.677083   12.500000   18.100000    0.000000    0.624000    6.623500   \n",
              "max     88.976200  100.000000   27.740000    1.000000    0.871000    8.780000   \n",
              "\n",
              "              AGE         DIS         RAD         TAX     PTRATIO           B  \\\n",
              "count  506.000000  506.000000  506.000000  506.000000  506.000000  506.000000   \n",
              "mean    68.574901    3.795043    9.549407  408.237154   18.455534  356.674032   \n",
              "std     28.148861    2.105710    8.707259  168.537116    2.164946   91.294864   \n",
              "min      2.900000    1.129600    1.000000  187.000000   12.600000    0.320000   \n",
              "25%     45.025000    2.100175    4.000000  279.000000   17.400000  375.377500   \n",
              "50%     77.500000    3.207450    5.000000  330.000000   19.050000  391.440000   \n",
              "75%     94.075000    5.188425   24.000000  666.000000   20.200000  396.225000   \n",
              "max    100.000000   12.126500   24.000000  711.000000   22.000000  396.900000   \n",
              "\n",
              "            LSTAT      TARGET  \n",
              "count  506.000000  506.000000  \n",
              "mean    12.653063   22.532806  \n",
              "std      7.141062    9.197104  \n",
              "min      1.730000    5.000000  \n",
              "25%      6.950000   17.025000  \n",
              "50%     11.360000   21.200000  \n",
              "75%     16.955000   25.000000  \n",
              "max     37.970000   50.000000  "
            ],
            "text/html": [
              "\n",
              "  <div id=\"df-b1620918-ba1f-41a7-ab10-a2661cc1b305\" class=\"colab-df-container\">\n",
              "    <div>\n",
              "<style scoped>\n",
              "    .dataframe tbody tr th:only-of-type {\n",
              "        vertical-align: middle;\n",
              "    }\n",
              "\n",
              "    .dataframe tbody tr th {\n",
              "        vertical-align: top;\n",
              "    }\n",
              "\n",
              "    .dataframe thead th {\n",
              "        text-align: right;\n",
              "    }\n",
              "</style>\n",
              "<table border=\"1\" class=\"dataframe\">\n",
              "  <thead>\n",
              "    <tr style=\"text-align: right;\">\n",
              "      <th></th>\n",
              "      <th>CRIM</th>\n",
              "      <th>ZN</th>\n",
              "      <th>INDUS</th>\n",
              "      <th>CHAS</th>\n",
              "      <th>NOX</th>\n",
              "      <th>RM</th>\n",
              "      <th>AGE</th>\n",
              "      <th>DIS</th>\n",
              "      <th>RAD</th>\n",
              "      <th>TAX</th>\n",
              "      <th>PTRATIO</th>\n",
              "      <th>B</th>\n",
              "      <th>LSTAT</th>\n",
              "      <th>TARGET</th>\n",
              "    </tr>\n",
              "  </thead>\n",
              "  <tbody>\n",
              "    <tr>\n",
              "      <th>count</th>\n",
              "      <td>506.000000</td>\n",
              "      <td>506.000000</td>\n",
              "      <td>506.000000</td>\n",
              "      <td>506.000000</td>\n",
              "      <td>506.000000</td>\n",
              "      <td>506.000000</td>\n",
              "      <td>506.000000</td>\n",
              "      <td>506.000000</td>\n",
              "      <td>506.000000</td>\n",
              "      <td>506.000000</td>\n",
              "      <td>506.000000</td>\n",
              "      <td>506.000000</td>\n",
              "      <td>506.000000</td>\n",
              "      <td>506.000000</td>\n",
              "    </tr>\n",
              "    <tr>\n",
              "      <th>mean</th>\n",
              "      <td>3.613524</td>\n",
              "      <td>11.363636</td>\n",
              "      <td>11.136779</td>\n",
              "      <td>0.069170</td>\n",
              "      <td>0.554695</td>\n",
              "      <td>6.284634</td>\n",
              "      <td>68.574901</td>\n",
              "      <td>3.795043</td>\n",
              "      <td>9.549407</td>\n",
              "      <td>408.237154</td>\n",
              "      <td>18.455534</td>\n",
              "      <td>356.674032</td>\n",
              "      <td>12.653063</td>\n",
              "      <td>22.532806</td>\n",
              "    </tr>\n",
              "    <tr>\n",
              "      <th>std</th>\n",
              "      <td>8.601545</td>\n",
              "      <td>23.322453</td>\n",
              "      <td>6.860353</td>\n",
              "      <td>0.253994</td>\n",
              "      <td>0.115878</td>\n",
              "      <td>0.702617</td>\n",
              "      <td>28.148861</td>\n",
              "      <td>2.105710</td>\n",
              "      <td>8.707259</td>\n",
              "      <td>168.537116</td>\n",
              "      <td>2.164946</td>\n",
              "      <td>91.294864</td>\n",
              "      <td>7.141062</td>\n",
              "      <td>9.197104</td>\n",
              "    </tr>\n",
              "    <tr>\n",
              "      <th>min</th>\n",
              "      <td>0.006320</td>\n",
              "      <td>0.000000</td>\n",
              "      <td>0.460000</td>\n",
              "      <td>0.000000</td>\n",
              "      <td>0.385000</td>\n",
              "      <td>3.561000</td>\n",
              "      <td>2.900000</td>\n",
              "      <td>1.129600</td>\n",
              "      <td>1.000000</td>\n",
              "      <td>187.000000</td>\n",
              "      <td>12.600000</td>\n",
              "      <td>0.320000</td>\n",
              "      <td>1.730000</td>\n",
              "      <td>5.000000</td>\n",
              "    </tr>\n",
              "    <tr>\n",
              "      <th>25%</th>\n",
              "      <td>0.082045</td>\n",
              "      <td>0.000000</td>\n",
              "      <td>5.190000</td>\n",
              "      <td>0.000000</td>\n",
              "      <td>0.449000</td>\n",
              "      <td>5.885500</td>\n",
              "      <td>45.025000</td>\n",
              "      <td>2.100175</td>\n",
              "      <td>4.000000</td>\n",
              "      <td>279.000000</td>\n",
              "      <td>17.400000</td>\n",
              "      <td>375.377500</td>\n",
              "      <td>6.950000</td>\n",
              "      <td>17.025000</td>\n",
              "    </tr>\n",
              "    <tr>\n",
              "      <th>50%</th>\n",
              "      <td>0.256510</td>\n",
              "      <td>0.000000</td>\n",
              "      <td>9.690000</td>\n",
              "      <td>0.000000</td>\n",
              "      <td>0.538000</td>\n",
              "      <td>6.208500</td>\n",
              "      <td>77.500000</td>\n",
              "      <td>3.207450</td>\n",
              "      <td>5.000000</td>\n",
              "      <td>330.000000</td>\n",
              "      <td>19.050000</td>\n",
              "      <td>391.440000</td>\n",
              "      <td>11.360000</td>\n",
              "      <td>21.200000</td>\n",
              "    </tr>\n",
              "    <tr>\n",
              "      <th>75%</th>\n",
              "      <td>3.677083</td>\n",
              "      <td>12.500000</td>\n",
              "      <td>18.100000</td>\n",
              "      <td>0.000000</td>\n",
              "      <td>0.624000</td>\n",
              "      <td>6.623500</td>\n",
              "      <td>94.075000</td>\n",
              "      <td>5.188425</td>\n",
              "      <td>24.000000</td>\n",
              "      <td>666.000000</td>\n",
              "      <td>20.200000</td>\n",
              "      <td>396.225000</td>\n",
              "      <td>16.955000</td>\n",
              "      <td>25.000000</td>\n",
              "    </tr>\n",
              "    <tr>\n",
              "      <th>max</th>\n",
              "      <td>88.976200</td>\n",
              "      <td>100.000000</td>\n",
              "      <td>27.740000</td>\n",
              "      <td>1.000000</td>\n",
              "      <td>0.871000</td>\n",
              "      <td>8.780000</td>\n",
              "      <td>100.000000</td>\n",
              "      <td>12.126500</td>\n",
              "      <td>24.000000</td>\n",
              "      <td>711.000000</td>\n",
              "      <td>22.000000</td>\n",
              "      <td>396.900000</td>\n",
              "      <td>37.970000</td>\n",
              "      <td>50.000000</td>\n",
              "    </tr>\n",
              "  </tbody>\n",
              "</table>\n",
              "</div>\n",
              "    <div class=\"colab-df-buttons\">\n",
              "\n",
              "  <div class=\"colab-df-container\">\n",
              "    <button class=\"colab-df-convert\" onclick=\"convertToInteractive('df-b1620918-ba1f-41a7-ab10-a2661cc1b305')\"\n",
              "            title=\"Convert this dataframe to an interactive table.\"\n",
              "            style=\"display:none;\">\n",
              "\n",
              "  <svg xmlns=\"http://www.w3.org/2000/svg\" height=\"24px\" viewBox=\"0 -960 960 960\">\n",
              "    <path d=\"M120-120v-720h720v720H120Zm60-500h600v-160H180v160Zm220 220h160v-160H400v160Zm0 220h160v-160H400v160ZM180-400h160v-160H180v160Zm440 0h160v-160H620v160ZM180-180h160v-160H180v160Zm440 0h160v-160H620v160Z\"/>\n",
              "  </svg>\n",
              "    </button>\n",
              "\n",
              "  <style>\n",
              "    .colab-df-container {\n",
              "      display:flex;\n",
              "      gap: 12px;\n",
              "    }\n",
              "\n",
              "    .colab-df-convert {\n",
              "      background-color: #E8F0FE;\n",
              "      border: none;\n",
              "      border-radius: 50%;\n",
              "      cursor: pointer;\n",
              "      display: none;\n",
              "      fill: #1967D2;\n",
              "      height: 32px;\n",
              "      padding: 0 0 0 0;\n",
              "      width: 32px;\n",
              "    }\n",
              "\n",
              "    .colab-df-convert:hover {\n",
              "      background-color: #E2EBFA;\n",
              "      box-shadow: 0px 1px 2px rgba(60, 64, 67, 0.3), 0px 1px 3px 1px rgba(60, 64, 67, 0.15);\n",
              "      fill: #174EA6;\n",
              "    }\n",
              "\n",
              "    .colab-df-buttons div {\n",
              "      margin-bottom: 4px;\n",
              "    }\n",
              "\n",
              "    [theme=dark] .colab-df-convert {\n",
              "      background-color: #3B4455;\n",
              "      fill: #D2E3FC;\n",
              "    }\n",
              "\n",
              "    [theme=dark] .colab-df-convert:hover {\n",
              "      background-color: #434B5C;\n",
              "      box-shadow: 0px 1px 3px 1px rgba(0, 0, 0, 0.15);\n",
              "      filter: drop-shadow(0px 1px 2px rgba(0, 0, 0, 0.3));\n",
              "      fill: #FFFFFF;\n",
              "    }\n",
              "  </style>\n",
              "\n",
              "    <script>\n",
              "      const buttonEl =\n",
              "        document.querySelector('#df-b1620918-ba1f-41a7-ab10-a2661cc1b305 button.colab-df-convert');\n",
              "      buttonEl.style.display =\n",
              "        google.colab.kernel.accessAllowed ? 'block' : 'none';\n",
              "\n",
              "      async function convertToInteractive(key) {\n",
              "        const element = document.querySelector('#df-b1620918-ba1f-41a7-ab10-a2661cc1b305');\n",
              "        const dataTable =\n",
              "          await google.colab.kernel.invokeFunction('convertToInteractive',\n",
              "                                                    [key], {});\n",
              "        if (!dataTable) return;\n",
              "\n",
              "        const docLinkHtml = 'Like what you see? Visit the ' +\n",
              "          '<a target=\"_blank\" href=https://colab.research.google.com/notebooks/data_table.ipynb>data table notebook</a>'\n",
              "          + ' to learn more about interactive tables.';\n",
              "        element.innerHTML = '';\n",
              "        dataTable['output_type'] = 'display_data';\n",
              "        await google.colab.output.renderOutput(dataTable, element);\n",
              "        const docLink = document.createElement('div');\n",
              "        docLink.innerHTML = docLinkHtml;\n",
              "        element.appendChild(docLink);\n",
              "      }\n",
              "    </script>\n",
              "  </div>\n",
              "\n",
              "\n",
              "    <div id=\"df-a1260bad-2608-46fa-a5dc-cb19dac5af03\">\n",
              "      <button class=\"colab-df-quickchart\" onclick=\"quickchart('df-a1260bad-2608-46fa-a5dc-cb19dac5af03')\"\n",
              "                title=\"Suggest charts\"\n",
              "                style=\"display:none;\">\n",
              "\n",
              "<svg xmlns=\"http://www.w3.org/2000/svg\" height=\"24px\"viewBox=\"0 0 24 24\"\n",
              "     width=\"24px\">\n",
              "    <g>\n",
              "        <path d=\"M19 3H5c-1.1 0-2 .9-2 2v14c0 1.1.9 2 2 2h14c1.1 0 2-.9 2-2V5c0-1.1-.9-2-2-2zM9 17H7v-7h2v7zm4 0h-2V7h2v10zm4 0h-2v-4h2v4z\"/>\n",
              "    </g>\n",
              "</svg>\n",
              "      </button>\n",
              "\n",
              "<style>\n",
              "  .colab-df-quickchart {\n",
              "      --bg-color: #E8F0FE;\n",
              "      --fill-color: #1967D2;\n",
              "      --hover-bg-color: #E2EBFA;\n",
              "      --hover-fill-color: #174EA6;\n",
              "      --disabled-fill-color: #AAA;\n",
              "      --disabled-bg-color: #DDD;\n",
              "  }\n",
              "\n",
              "  [theme=dark] .colab-df-quickchart {\n",
              "      --bg-color: #3B4455;\n",
              "      --fill-color: #D2E3FC;\n",
              "      --hover-bg-color: #434B5C;\n",
              "      --hover-fill-color: #FFFFFF;\n",
              "      --disabled-bg-color: #3B4455;\n",
              "      --disabled-fill-color: #666;\n",
              "  }\n",
              "\n",
              "  .colab-df-quickchart {\n",
              "    background-color: var(--bg-color);\n",
              "    border: none;\n",
              "    border-radius: 50%;\n",
              "    cursor: pointer;\n",
              "    display: none;\n",
              "    fill: var(--fill-color);\n",
              "    height: 32px;\n",
              "    padding: 0;\n",
              "    width: 32px;\n",
              "  }\n",
              "\n",
              "  .colab-df-quickchart:hover {\n",
              "    background-color: var(--hover-bg-color);\n",
              "    box-shadow: 0 1px 2px rgba(60, 64, 67, 0.3), 0 1px 3px 1px rgba(60, 64, 67, 0.15);\n",
              "    fill: var(--button-hover-fill-color);\n",
              "  }\n",
              "\n",
              "  .colab-df-quickchart-complete:disabled,\n",
              "  .colab-df-quickchart-complete:disabled:hover {\n",
              "    background-color: var(--disabled-bg-color);\n",
              "    fill: var(--disabled-fill-color);\n",
              "    box-shadow: none;\n",
              "  }\n",
              "\n",
              "  .colab-df-spinner {\n",
              "    border: 2px solid var(--fill-color);\n",
              "    border-color: transparent;\n",
              "    border-bottom-color: var(--fill-color);\n",
              "    animation:\n",
              "      spin 1s steps(1) infinite;\n",
              "  }\n",
              "\n",
              "  @keyframes spin {\n",
              "    0% {\n",
              "      border-color: transparent;\n",
              "      border-bottom-color: var(--fill-color);\n",
              "      border-left-color: var(--fill-color);\n",
              "    }\n",
              "    20% {\n",
              "      border-color: transparent;\n",
              "      border-left-color: var(--fill-color);\n",
              "      border-top-color: var(--fill-color);\n",
              "    }\n",
              "    30% {\n",
              "      border-color: transparent;\n",
              "      border-left-color: var(--fill-color);\n",
              "      border-top-color: var(--fill-color);\n",
              "      border-right-color: var(--fill-color);\n",
              "    }\n",
              "    40% {\n",
              "      border-color: transparent;\n",
              "      border-right-color: var(--fill-color);\n",
              "      border-top-color: var(--fill-color);\n",
              "    }\n",
              "    60% {\n",
              "      border-color: transparent;\n",
              "      border-right-color: var(--fill-color);\n",
              "    }\n",
              "    80% {\n",
              "      border-color: transparent;\n",
              "      border-right-color: var(--fill-color);\n",
              "      border-bottom-color: var(--fill-color);\n",
              "    }\n",
              "    90% {\n",
              "      border-color: transparent;\n",
              "      border-bottom-color: var(--fill-color);\n",
              "    }\n",
              "  }\n",
              "</style>\n",
              "\n",
              "      <script>\n",
              "        async function quickchart(key) {\n",
              "          const quickchartButtonEl =\n",
              "            document.querySelector('#' + key + ' button');\n",
              "          quickchartButtonEl.disabled = true;  // To prevent multiple clicks.\n",
              "          quickchartButtonEl.classList.add('colab-df-spinner');\n",
              "          try {\n",
              "            const charts = await google.colab.kernel.invokeFunction(\n",
              "                'suggestCharts', [key], {});\n",
              "          } catch (error) {\n",
              "            console.error('Error during call to suggestCharts:', error);\n",
              "          }\n",
              "          quickchartButtonEl.classList.remove('colab-df-spinner');\n",
              "          quickchartButtonEl.classList.add('colab-df-quickchart-complete');\n",
              "        }\n",
              "        (() => {\n",
              "          let quickchartButtonEl =\n",
              "            document.querySelector('#df-a1260bad-2608-46fa-a5dc-cb19dac5af03 button');\n",
              "          quickchartButtonEl.style.display =\n",
              "            google.colab.kernel.accessAllowed ? 'block' : 'none';\n",
              "        })();\n",
              "      </script>\n",
              "    </div>\n",
              "\n",
              "    </div>\n",
              "  </div>\n"
            ],
            "application/vnd.google.colaboratory.intrinsic+json": {
              "type": "dataframe",
              "summary": "{\n  \"name\": \"boston_df\",\n  \"rows\": 8,\n  \"fields\": [\n    {\n      \"column\": \"CRIM\",\n      \"properties\": {\n        \"dtype\": \"number\",\n        \"std\": 176.21241273856964,\n        \"min\": 0.00632,\n        \"max\": 506.0,\n        \"num_unique_values\": 8,\n        \"samples\": [\n          3.613523557312254,\n          0.25651,\n          506.0\n        ],\n        \"semantic_type\": \"\",\n        \"description\": \"\"\n      }\n    },\n    {\n      \"column\": \"ZN\",\n      \"properties\": {\n        \"dtype\": \"number\",\n        \"std\": 174.65631992520625,\n        \"min\": 0.0,\n        \"max\": 506.0,\n        \"num_unique_values\": 6,\n        \"samples\": [\n          506.0,\n          11.363636363636363,\n          100.0\n        ],\n        \"semantic_type\": \"\",\n        \"description\": \"\"\n      }\n    },\n    {\n      \"column\": \"INDUS\",\n      \"properties\": {\n        \"dtype\": \"number\",\n        \"std\": 175.10046881853455,\n        \"min\": 0.46,\n        \"max\": 506.0,\n        \"num_unique_values\": 8,\n        \"samples\": [\n          11.13677865612648,\n          9.69,\n          506.0\n        ],\n        \"semantic_type\": \"\",\n        \"description\": \"\"\n      }\n    },\n    {\n      \"column\": \"CHAS\",\n      \"properties\": {\n        \"dtype\": \"number\",\n        \"std\": 178.83151296515905,\n        \"min\": 0.0,\n        \"max\": 506.0,\n        \"num_unique_values\": 5,\n        \"samples\": [\n          0.0691699604743083,\n          1.0,\n          0.2539940413404118\n        ],\n        \"semantic_type\": \"\",\n        \"description\": \"\"\n      }\n    },\n    {\n      \"column\": \"NOX\",\n      \"properties\": {\n        \"dtype\": \"number\",\n        \"std\": 178.71946937975397,\n        \"min\": 0.11587767566755611,\n        \"max\": 506.0,\n        \"num_unique_values\": 8,\n        \"samples\": [\n          0.5546950592885376,\n          0.538,\n          506.0\n        ],\n        \"semantic_type\": \"\",\n        \"description\": \"\"\n      }\n    },\n    {\n      \"column\": \"RM\",\n      \"properties\": {\n        \"dtype\": \"number\",\n        \"std\": 176.99257138815915,\n        \"min\": 0.7026171434153237,\n        \"max\": 506.0,\n        \"num_unique_values\": 8,\n        \"samples\": [\n          6.284634387351779,\n          6.2085,\n          506.0\n        ],\n        \"semantic_type\": \"\",\n        \"description\": \"\"\n      }\n    },\n    {\n      \"column\": \"AGE\",\n      \"properties\": {\n        \"dtype\": \"number\",\n        \"std\": 161.29423343904304,\n        \"min\": 2.9,\n        \"max\": 506.0,\n        \"num_unique_values\": 8,\n        \"samples\": [\n          68.57490118577076,\n          77.5,\n          506.0\n        ],\n        \"semantic_type\": \"\",\n        \"description\": \"\"\n      }\n    },\n    {\n      \"column\": \"DIS\",\n      \"properties\": {\n        \"dtype\": \"number\",\n        \"std\": 177.4338019618181,\n        \"min\": 1.1296,\n        \"max\": 506.0,\n        \"num_unique_values\": 8,\n        \"samples\": [\n          3.795042687747036,\n          3.2074499999999997,\n          506.0\n        ],\n        \"semantic_type\": \"\",\n        \"description\": \"\"\n      }\n    },\n    {\n      \"column\": \"RAD\",\n      \"properties\": {\n        \"dtype\": \"number\",\n        \"std\": 175.26272292595038,\n        \"min\": 1.0,\n        \"max\": 506.0,\n        \"num_unique_values\": 7,\n        \"samples\": [\n          506.0,\n          9.549407114624506,\n          5.0\n        ],\n        \"semantic_type\": \"\",\n        \"description\": \"\"\n      }\n    },\n    {\n      \"column\": \"TAX\",\n      \"properties\": {\n        \"dtype\": \"number\",\n        \"std\": 205.93933614417855,\n        \"min\": 168.53711605495926,\n        \"max\": 711.0,\n        \"num_unique_values\": 8,\n        \"samples\": [\n          408.2371541501976,\n          330.0,\n          506.0\n        ],\n        \"semantic_type\": \"\",\n        \"description\": \"\"\n      }\n    },\n    {\n      \"column\": \"PTRATIO\",\n      \"properties\": {\n        \"dtype\": \"number\",\n        \"std\": 173.36059244426343,\n        \"min\": 2.164945523714446,\n        \"max\": 506.0,\n        \"num_unique_values\": 8,\n        \"samples\": [\n          18.455533596837945,\n          19.05,\n          506.0\n        ],\n        \"semantic_type\": \"\",\n        \"description\": \"\"\n      }\n    },\n    {\n      \"column\": \"B\",\n      \"properties\": {\n        \"dtype\": \"number\",\n        \"std\": 173.23587641654387,\n        \"min\": 0.32,\n        \"max\": 506.0,\n        \"num_unique_values\": 8,\n        \"samples\": [\n          356.6740316205534,\n          391.44,\n          506.0\n        ],\n        \"semantic_type\": \"\",\n        \"description\": \"\"\n      }\n    },\n    {\n      \"column\": \"LSTAT\",\n      \"properties\": {\n        \"dtype\": \"number\",\n        \"std\": 174.45535325169888,\n        \"min\": 1.73,\n        \"max\": 506.0,\n        \"num_unique_values\": 8,\n        \"samples\": [\n          12.653063241106722,\n          11.36,\n          506.0\n        ],\n        \"semantic_type\": \"\",\n        \"description\": \"\"\n      }\n    },\n    {\n      \"column\": \"TARGET\",\n      \"properties\": {\n        \"dtype\": \"number\",\n        \"std\": 171.852511161592,\n        \"min\": 5.0,\n        \"max\": 506.0,\n        \"num_unique_values\": 8,\n        \"samples\": [\n          22.532806324110677,\n          21.2,\n          506.0\n        ],\n        \"semantic_type\": \"\",\n        \"description\": \"\"\n      }\n    }\n  ]\n}"
            }
          },
          "metadata": {},
          "execution_count": 19
        }
      ]
    },
    {
      "cell_type": "markdown",
      "metadata": {
        "id": "26tAXmASEM_e"
      },
      "source": [
        "Zauważmy, że zbiór danych jest kompletny (nie ma brakujących danych - patrz: kolumna count). To co warto zauważyć na etapie prostej analizy - zmienne są nieznormalizowane między sobą. Trzeba będzie zadbać o poprawną normalizację zanim dane wejściowe zostaną przekazane do modelu."
      ]
    },
    {
      "cell_type": "markdown",
      "metadata": {
        "id": "ThV42KGHByea"
      },
      "source": [
        "Aby zapoznać się z trudnością zadania modelowania ceny domów w Bostonie sprawdźmy czy zbiór danych zawiera proste korelacje między zmiennymi objaśniającymi (cechami np wskaźnikiem przestępczości, współczynnikiem liczby nauczycieli na ucznia, koncentracją związków azotu ...), a zmienną objaśnianą (ceną domów)."
      ]
    },
    {
      "cell_type": "code",
      "metadata": {
        "id": "mEJE5qaUBwyQ",
        "colab": {
          "base_uri": "https://localhost:8080/",
          "height": 1000
        },
        "outputId": "15c39578-2d16-40c0-b591-c61ddf803044"
      },
      "source": [
        "numerical_columns = list(boston_df.columns)\n",
        "numerical_columns.remove('CHAS')\n",
        "\n",
        "numerical_data = np.array(boston_df[numerical_columns])\n",
        "corr_mat = np.corrcoef(numerical_data.T)\n",
        "\n",
        "fig, ax = plt.subplots(figsize=(15,15))\n",
        "cmap = sn.diverging_palette(10, 160, s=50, as_cmap=True)\n",
        "sn.heatmap(corr_mat, annot=True, square=True, ax=ax, vmin=-1, vmax=1, cmap=cmap,\n",
        "           yticklabels=numerical_columns, xticklabels=numerical_columns)\n",
        "ax.hlines([12], *ax.get_xlim())\n",
        "ax.vlines([12], *ax.get_xlim())\n",
        "ax.set_xlabel('features')\n",
        "ax.set_ylabel('features')"
      ],
      "execution_count": 20,
      "outputs": [
        {
          "output_type": "execute_result",
          "data": {
            "text/plain": [
              "Text(158.22222222222223, 0.5, 'features')"
            ]
          },
          "metadata": {},
          "execution_count": 20
        },
        {
          "output_type": "display_data",
          "data": {
            "text/plain": [
              "<Figure size 1500x1500 with 2 Axes>"
            ],
            "image/png": "[encoded data removed]"
          },
          "metadata": {}
        }
      ]
    },
    {
      "cell_type": "markdown",
      "metadata": {
        "id": "KPnbmmsCJo47"
      },
      "source": [
        "Zanim przystąpicie Państwo do analizy powyższej heatmapy polecam przypomnieć sobie czym jest ***korelacja Pearsona*** oraz jak należy ją interpretować (np. [tutaj](https://statistics.laerd.com/statistical-guides/pearson-correlation-coefficient-statistical-guide.php)). Zauważmy, że istnieją silne korelacje między zmiennymi objaśniającymi oraz względem zmiennej objaśnianej. Dla ćwiczenia proszę odszukać po 3 najsilniejsze korelacje między zmiennymi objaśniającymi oraz względem zmiennej objaśnianej. Swoje odpowiedzi można sprawdzić wywołując poniższe komendy:\n",
        "\n",
        "```\n",
        "corr_mat_abs = np.abs(corr_mat)\n",
        "\n",
        "print('Top correlations between features:')\n",
        "upper_tri = corr_mat_abs[:-1,:-1][np.triu_indices_from(corr_mat[:-1,:-1], k=1)]\n",
        "max_ind = [np.where(corr_mat_abs[:-1,:-1]==max)[0] for max in sorted(upper_tri,reverse=True)[:3]]\n",
        "_ = [print('[', numerical_columns[index[0]], '] - [', numerical_columns[index[1]],']: ', round(corr_mat[index[0], index[1]],2)) for index in max_ind]\n",
        "\n",
        "print('Top correlations with respect to target variable:')\n",
        "max_ind = [list(corr_mat_abs[-1,:-1]).index(max) for max in sorted(corr_mat_abs[-1,:-1],reverse=True)[:3]]\n",
        "_ = [print('[', numerical_columns[index], '] - [TARGET]: ', round(corr_mat[index, -1],2)) for index in max_ind]\n",
        "```\n",
        "Proszę odnieść skróty nazw zmiennych do ich znaczenia dla zadania predykcji ceny domów. Czy pary skorelowanych zmiennych można zinterpretować lub nawet przewidzieć ich związek?\n",
        "\n",
        "Ostatnim krokiem będzie podejrzenie rozkładu kilku zmiennych, które będą przydatne w budowaniu końcowego modelu predykcyjnego np. RM, LSTAT, PTRATIO, NOX, AGE. W polu formularza proszę wybrać interesującą zmienną, uruchomić formularz, po czym uruchomić komórkę kodu poniżej, która wyświetli histogram. Które zmienne są zmiennymi typu kategorycznego (odpowiedź: CHAS)?\n"
      ]
    },
    {
      "cell_type": "code",
      "metadata": {
        "cellView": "form",
        "id": "bgDrh3BrYZJF"
      },
      "source": [
        "#@title Wybrana cecha do wizualizacji rozkładu\n",
        "feature_name = \"TARGET\" #@param ['CRIM', 'ZN', 'INDUS', 'CHAS', 'NOX', 'RM', 'AGE', 'DIS', 'RAD', 'TAX', 'PTRATIO', 'B', 'LSTAT', 'TARGET']\n"
      ],
      "execution_count": null,
      "outputs": []
    },
    {
      "cell_type": "code",
      "metadata": {
        "id": "9f3L7DJSX_ZV"
      },
      "source": [
        "fig, ax = plt.subplots(figsize=(10,7))\n",
        "sn.histplot(data=boston_df, x=feature_name, ax=ax, kde=True)\n",
        "plt.grid(True)"
      ],
      "execution_count": null,
      "outputs": []
    },
    {
      "cell_type": "markdown",
      "metadata": {
        "id": "Zsecj3WmNcM6"
      },
      "source": [
        "Przygotujmy zbiór danych dzieląc dataset na zbiór danych treningowych, walidacyjnych i testowych (proporcja 3-1-1=60%-20%-20%). Na tym etapie będziemy decydować, które cechy będą używane do tworzenia modeli. Lista uwzględnionych cech ustalana jest w liście ```chosen_features```. Aby podejrzeć listę dostępnych cech wystarczy wywołać komendę ```boston_df.columns```.\n",
        "\n"
      ]
    },
    {
      "cell_type": "code",
      "metadata": {
        "id": "-ISQHyO6YAUI"
      },
      "source": [
        "chosen_features = ['RM', 'LSTAT', 'PTRATIO', 'NOX', 'AGE']\n",
        "X = boston_df[chosen_features]\n",
        "Y = boston_df['TARGET']\n",
        "\n",
        "X_train, X_test, Y_train, Y_test = train_test_split(X, Y, test_size = 0.2, random_state = RANDOM_SEED, shuffle=True)\n",
        "X_train, X_valid, Y_train, Y_valid = train_test_split(X_train, Y_train, test_size = 0.25, random_state = RANDOM_SEED, shuffle=True)"
      ],
      "execution_count": null,
      "outputs": []
    },
    {
      "cell_type": "markdown",
      "metadata": {
        "id": "zT9tApgXag1c"
      },
      "source": [
        "Modele bedą poddawane ocenie przy pomocy metod klasy ```RegressScoring```. Dostępne są następujące metryki:\n",
        "- MSE\n",
        "- MAPE  \n",
        "- regressor.score\n",
        "\n",
        "W tym ćwiczeniu będziemy się skupiać w szczególności na MSE."
      ]
    },
    {
      "cell_type": "markdown",
      "metadata": {
        "id": "X1-soFgGYw0B"
      },
      "source": [
        "#### **Zadanie 1a** Wielkość modelu\n",
        "Skoro znany jest zbiór danych to można przejść do modelowania i analizy zjawiska generalizacji.\n",
        "\n",
        "Jednym z parametrów, które będą wpływać na ekspresywność modelu jest jego **wielkość** (np liczba warstw w sieci MLP, liczba neuronów w warstwach ukrytych, wysokość modelu drzewiastego itp).  \n",
        "\n",
        "Pierwszy eksperyment będzie polegać na nauczeniu regresyjnych drzew decyzyjnych (scikit-learn: [DecisionTreeRegressor](https://scikit-learn.org/stable/modules/generated/sklearn.tree.DecisionTreeRegressor.html)). Plusem tego typu modelu jest jego prostota i w miarę prosta możliwość analizy. Podstawowym parametrem odpowiadającym za wielkości modelu będzie ```max_depth```, który odpowiada za wysokość drzewa. W poniższych eksperymentach analizowany będzie zakres $max\\_depth \\in (1,20)$.\n",
        "\n",
        "Celem ćwiczenia jest rozpoznanie zależności między generalizacją, a wielkością modelu oraz wielkością zbioru danych. Będzie to możliwe dzięki wygenerowaniu tzw. ***krzywej uczenia***. Prezentuje ona zależność między wielkością zbioru uczącego oraz uzyskiwanymi błędami uczenia i walidacji. Rozmiar zbioru treningowego w eksperymentach będzie zmieniał się w zakresie $training\\_set\\_sizes \\in (10:10:300)$. Dla zwiększających się wielkości modelu będzie można przeanalizować dla jakiej wartości następuje utrata generalizacji, spowodowana niedouczeniem lub przeuczeniem.\n",
        "\n",
        "Przed przystąpieniem do ćwiczenia bardzo proszę o zapoznanie się z rozdziałem *Learning curves* (str 55-64) z książki *Machine Learning Yearning* autorstwa Andrew Ng (podgląd dostępny np [tutaj](https://d2wvfoqc9gyqzf.cloudfront.net/content/uploads/2018/09/Ng-MLY01-13.pdf))."
      ]
    },
    {
      "cell_type": "code",
      "metadata": {
        "id": "3laEmJWWXkPd"
      },
      "source": [
        "max_depths = range(1,21)\n",
        "training_set_sizes = range(10,X_train.shape[0],10)\n",
        "\n",
        "train_results = np.zeros(shape=(len(training_set_sizes),len(max_depths)))\n",
        "valid_results = np.zeros(shape=(len(training_set_sizes),len(max_depths)))\n",
        "for i, depth in enumerate(max_depths):\n",
        "    for j, train_size in enumerate(training_set_sizes):\n",
        "        regressor = DecisionTreeRegressor(random_state=RANDOM_SEED, max_depth=depth).fit(X_train.iloc[:train_size,:], Y_train[:train_size])\n",
        "        train_results[j,i] = RegressScoring.mean_sqr_error(Y_train[:train_size], regressor.predict(X_train.iloc[:train_size,:]))\n",
        "        valid_results[j,i] = RegressScoring.mean_sqr_error(Y_valid, regressor.predict(X_valid))"
      ],
      "execution_count": null,
      "outputs": []
    },
    {
      "cell_type": "code",
      "metadata": {
        "id": "joht1p9GujuM"
      },
      "source": [
        "fig = plt.figure(figsize=(15, 10))\n",
        "outer = gridspec.GridSpec(2, 1, wspace=0.3, hspace=0.3)\n",
        "\n",
        "axs = plt.Subplot(fig, outer[0])\n",
        "axs.plot(max_depths, train_results[-1,:], label='train')\n",
        "axs.plot(max_depths, valid_results[-1,:], label='valid')\n",
        "axs.grid(True)\n",
        "axs.legend()\n",
        "axs.set_xlabel('Model complexity [max_depth]')\n",
        "axs.set_ylabel('Mean Squared Error')\n",
        "fig.add_subplot(axs)\n",
        "\n",
        "inner = gridspec.GridSpecFromSubplotSpec(1, 5, subplot_spec=outer[1], wspace=0.1, hspace=0.1)\n",
        "axs1 = plt.Subplot(fig, inner[0])\n",
        "axs1.plot(training_set_sizes, train_results[:,0], label='train')\n",
        "axs1.plot(training_set_sizes, valid_results[:,0], label='valid')\n",
        "axs1.grid(True)\n",
        "axs1.set_title('max_depth=1')\n",
        "axs1.set_ylabel('MSE')\n",
        "axs1.set_ylim([0,np.max(valid_results[:,0])+5])\n",
        "fig.add_subplot(axs1)\n",
        "\n",
        "axs2 = plt.Subplot(fig, inner[1])\n",
        "axs2.plot(training_set_sizes, train_results[:,2], label='train')\n",
        "axs2.plot(training_set_sizes, valid_results[:,2], label='valid')\n",
        "axs2.grid(True)\n",
        "axs2.set_title('max_depth=3')\n",
        "axs2.set_ylim([0,np.max(valid_results[:,0])+5])\n",
        "axs2.axes.yaxis.set_ticklabels([])\n",
        "fig.add_subplot(axs2, sharey=axs1)\n",
        "\n",
        "axs3 = plt.Subplot(fig, inner[2])\n",
        "axs3.plot(training_set_sizes, train_results[:,4], label='train')\n",
        "axs3.plot(training_set_sizes, valid_results[:,4], label='valid')\n",
        "axs3.grid(True)\n",
        "axs3.set_title('max_depth=5')\n",
        "axs3.set_xlabel('training set size')\n",
        "axs3.set_ylim([0,np.max(valid_results[:,0])+5])\n",
        "axs3.axes.yaxis.set_ticklabels([])\n",
        "fig.add_subplot(axs3, sharey=axs1)\n",
        "\n",
        "axs4 = plt.Subplot(fig, inner[3])\n",
        "axs4.plot(training_set_sizes, train_results[:,9], label='train')\n",
        "axs4.plot(training_set_sizes, valid_results[:,9], label='valid')\n",
        "axs4.grid(True)\n",
        "axs4.set_title('max_depth=10')\n",
        "axs4.set_ylim([0,np.max(valid_results[:,0])+5])\n",
        "axs4.axes.yaxis.set_ticklabels([])\n",
        "fig.add_subplot(axs4, sharey=axs1)\n",
        "\n",
        "axs5 = plt.Subplot(fig, inner[4])\n",
        "axs5.plot(training_set_sizes, train_results[:,19], label='train')\n",
        "axs5.plot(training_set_sizes, valid_results[:,19], label='valid')\n",
        "axs5.grid(True), axs5.legend()\n",
        "axs5.set_title('max_depth=20')\n",
        "axs5.set_ylim([0,np.max(valid_results[:,0])+5])\n",
        "axs5.axes.yaxis.set_ticklabels([])\n",
        "fig.add_subplot(axs5, sharey=axs1)\n",
        "\n",
        "fig.show()"
      ],
      "execution_count": null,
      "outputs": []
    },
    {
      "cell_type": "markdown",
      "metadata": {
        "id": "ON1UyiEn7BIh"
      },
      "source": [
        "#### **Pytania**\n",
        "\n",
        "0. Proszę wyjaśnić zjawisko utraty generalizacji oraz wyjaśnić własnymi słowami rozumienie słowa generalizacja.\n",
        "1. W sprawozdaniu proszę zamieścić uzyskane wykresy uczenia modeli drzewiastych. Proszę opisać i scharakteryzować uzyskane wykresy (osobno górny i dolny rząd).\n",
        "2. Na przykładzie wykresu górnego proszę wyjaśnić jak zależy błąd treningu i walidacji w zależności od wielkości modelu. Co dzieje się z wykresami błędu gdy wielkość modelu osiąga wystarczająco duże wielkości (~ dąży do nieskończoności)?\n",
        "3. Na przykładzie wykresów z dolnego rzędu, jakie wyniki osiągają modele uczone na małym podzbiorze danych, a jakie na większym podzbiorze?\n",
        "4. Korzystając ze wszystkich wykresów proszę która z wartości ```max_depth``` jest optymalna z punktu widzenia treningu i walidacji? Proszę uzasadnić odpowiedź.\n",
        "5. Dla wybranej wartości ```max_depth``` proszę wytrenować jedno drzewo dla pełnego zbioru danych. Następnie należy podejrzeć strukturę drzewa (reguły decyzyjne) oraz wymienić 2-3 najczęściej wykorzystywane zmienne w węzłach decyzyjnych (rozgałęzieniach). Można w tym celu wykorzystać następujące linie kodu:\n",
        "```\n",
        "chosen_depth = #{TUTAJ NALEŻY WPISAĆ WYBRANĄ WARTOŚĆ WYSOKOŚCI DRZEWA}\n",
        "plt.figure(dpi=200)\n",
        "regressor = DecisionTreeRegressor(random_state=RANDOM_SEED, max_depth=chosen_depth).fit(X_train, Y_train)\n",
        "_ = plot_tree(regressor, feature_names=chosen_features, filled=True)\n",
        "plt.show()\n",
        "```\n",
        "6. Jakie zakresy wartości ```max_depth``` odpowiadają modelom przeuczonym, a jakie niedouczonym?\n",
        "7. Czemu powyższa analiza jest wykonywana na zbiorze danych trenujących i walidujących zamiast trenującym i testującym? Proszę uzasadnić odpowiedź.\n",
        "\n"
      ]
    },
    {
      "cell_type": "markdown",
      "metadata": {
        "id": "ZRm4NtY_ak5Q"
      },
      "source": [
        "#### **Zadanie 1b** Hiperparametry modelu\n",
        "\n",
        "Drugie ćwiczenie będzie dotyczyć wpływu hiperparametrów modeli na zdolności generlizacyjne na przykładzie sieci SVM z jądrem gaussowskim w zadaniu regresji. Będzie zaprezentowany wpływ wartości $\\gamma (gamma)$ na budowane modele, zakres badanych gamm będzie obejmować $\\gamma \\in (10^{-5}, 10^{5})$. Zbadane zostaną trzy zmienne: błąd walidacji (MSE), liczba wektorów nośnych (ang. *support vector*) oraz gamma. W trakcie uczenia pozostałe hiperparametry pozostaną stałe i równe $C=1000 (regularyzacja), \\epsilon=10 (epsilon)$."
      ]
    },
    {
      "cell_type": "code",
      "metadata": {
        "id": "13rs3PIQ9ar7"
      },
      "source": [
        "gammas = np.reshape(np.reshape(np.repeat(np.logspace(-5,5,11), 3, axis=0), (11,3))*[1,2,5],(33))\n",
        "valid_mse = []\n",
        "num_sv = []\n",
        "\n",
        "for gamma in gammas:\n",
        "    regressor = make_pipeline(StandardScaler(), SVR(gamma=gamma, C=1000, epsilon=10))\n",
        "    regressor.fit(X_train, Y_train)\n",
        "    valid_mse.append(RegressScoring.mean_sqr_error(Y_valid, regressor.predict(X_valid)))\n",
        "    num_sv.append(regressor['svr'].n_support_[0])"
      ],
      "execution_count": null,
      "outputs": []
    },
    {
      "cell_type": "code",
      "metadata": {
        "id": "hZNMLUluaoFe"
      },
      "source": [
        "fig, ax = plt.subplots(1, 3, figsize=(20,5))\n",
        "ax[0].plot(gammas, valid_mse, '-o'), ax[0].grid(True), ax[0].set_xscale('log'), ax[0].set_title('MSE(g)'), ax[0].set_xlabel('gamma [g]'), ax[0].set_ylabel('validation error [MSE]')\n",
        "ax[1].plot(gammas, num_sv, '-o'), ax[1].grid(True), ax[1].set_xscale('log'), ax[1].set_title('Nsv(g)'), ax[1].set_xlabel('gamma [g]'), ax[1].set_ylabel('number of support vectors [Nsv]')\n",
        "ax[2].plot(num_sv, valid_mse, 'o'), ax[2].grid(True), ax[2].set_title('MSE(Nsv)'), ax[2].set_xlabel('number of support vectors [Nsv]'), ax[2].set_ylabel('validation error [MSE]')\n",
        "plt.show()"
      ],
      "execution_count": null,
      "outputs": []
    },
    {
      "cell_type": "markdown",
      "metadata": {
        "id": "pHBZ_stV9gsA"
      },
      "source": [
        "#### **Pytania**\n",
        "\n",
        "0. Jaki wpływ ma dobór parametrów $\\gamma$ (gamma), $\\epsilon$ (epsilon) oraz $C$ (kara) na trening sieci SVM? Proszę udzielić odpowiedzi odnosząc się do procesu trenowania sieci SVM.\n",
        "1. W sprawozdaniu proszę zamieścić uzyskany wykres zależności zmiennych MSE, Nsv oraz g. Proszę skomentować uzyskane przebiegi.\n",
        "2. Dla jakiej gammy uzyskuje się model o najlepszych właściwościach generalizacyjnych? Ile wektorów nośnych odpowiada wyborowi tej gammy?\n",
        "3. W jakim zakresie gamm i liczby wektorów nośnych następuje utrata generalizacji w badanych sieciach SVM?\n",
        "4. Jak zależy liczba wektorów nośnych od gammy? O czym może świadczyć bardzo duża liczba wektorów nośnych?\n",
        "5. Jak zależy błąd walidacji od gammy? Czym może być spowodowane wypłaszczenie charakterystyki w zakresie $\\gamma>1$? Podpowiedź: Proszę spojrzeć na generowane odpowiedzi sieci dla przypadku np. $\\gamma=10^5$. Można posłużyć się poniższym kodem, uzupełniając poszczególne zmienne zaznaczone tekstem TUTAJ:\n",
        "```\n",
        "regressor = make_pipeline(StandardScaler(), SVR(gamma=**TUTAJ**, C=1000, epsilon=10))\n",
        "regressor.fit(X_train, Y_train)\n",
        "plt.plot(range(Y_valid.shape[0]), regressor.predict(**TUTAJ**), 'o')\n",
        "plt.plot(range(Y_valid.shape[0]), **TUTAJ**, 'o')\n",
        "plt.grid(True)\n",
        "plt.legend(['y_predict','y_true'])\n",
        "```"
      ]
    },
    {
      "cell_type": "markdown",
      "metadata": {
        "id": "vbH3Nzq7Y1-o"
      },
      "source": [
        "### **Zadanie 2** Wizja komputerowa\n",
        "\n",
        "Drugie ćwiczenie będzie wykorzystywać **zadanie klasyfikacji** obrazów do zobrazowania problematyki generalizacji w sieciach neuronowych. Wykorzystywane będą 2 architektury: **Vanilla Neural Network** i **Convolutional Neural Network**."
      ]
    },
    {
      "cell_type": "markdown",
      "metadata": {
        "id": "xaauEDUIevjE"
      },
      "source": [
        "#### MNIST dataset"
      ]
    },
    {
      "cell_type": "markdown",
      "metadata": {
        "id": "zQC5cbtt8k-R"
      },
      "source": [
        "W eksperymentach będzie wykorzystywany zbiór MNIST, czyli jeden z najczęściej wykorzystywanych datasetów z obrazami odręcznie pisanych cyfr 0-9 (10 klas). Zbiór danych jest prosty i w miarę znormalizowany pod względem liczności, wielkości obrazów (28x28px) i ich jakości. Zaczniemy od prostej wizualizacji zbioru danych, w tym wyświetlenia przykładowych obrazów."
      ]
    },
    {
      "cell_type": "code",
      "metadata": {
        "id": "CBFsC9GgJpbS"
      },
      "source": [
        "batch_size_train = 10\n",
        "batch_size_test = 1000"
      ],
      "execution_count": null,
      "outputs": []
    },
    {
      "cell_type": "code",
      "metadata": {
        "id": "Zn1RM7Uv0DC1"
      },
      "source": [
        "train_loader, valid_loader, test_loader = read_MNIST(batch_size_train, batch_size_test, 'zad2a')\n",
        "classes = tuple([str(i) for i in range(0,10)])"
      ],
      "execution_count": null,
      "outputs": []
    },
    {
      "cell_type": "code",
      "metadata": {
        "cellView": "form",
        "id": "ZVPhpPObHrAp"
      },
      "source": [
        "#@title Który zbiór danych należy zwizualizować?\n",
        "which_dataset = \"trenuj\\u0105cy\" #@param [\"trenujący\", \"walidacyjny\", \"testujący\"]\n",
        "\n",
        "if which_dataset == 'trenujący':\n",
        "    visualize_dataset = list(train_loader)\n",
        "elif which_dataset == 'walidacyjny':\n",
        "    visualize_dataset = list(valid_loader)\n",
        "elif which_dataset == 'testujący':\n",
        "    visualize_dataset = list(test_loader)\n",
        "else:\n",
        "    raise"
      ],
      "execution_count": null,
      "outputs": []
    },
    {
      "cell_type": "code",
      "metadata": {
        "id": "6s8ao5yhEwDl"
      },
      "source": [
        "targets = []\n",
        "[targets.extend(batch[-1]) for batch in visualize_dataset]\n",
        "\n",
        "keys, counts = np.unique(targets, return_counts=True)\n",
        "plt.bar(classes, counts)\n",
        "plt.grid(True)\n",
        "plt.title('MNIST')\n",
        "plt.ylabel('Count')\n",
        "plt.xlabel('Class')\n",
        "plt.show()"
      ],
      "execution_count": null,
      "outputs": []
    },
    {
      "cell_type": "code",
      "metadata": {
        "id": "zqlbk8HMjrm6"
      },
      "source": [
        "num_examples = 3\n",
        "\n",
        "fig, ax = plt.subplots(num_examples, 10, figsize=(10,5))\n",
        "for i in range(0, 10):\n",
        "    plot = 0\n",
        "    for batch in visualize_dataset:\n",
        "        for idx, example in enumerate(batch[-1]):\n",
        "            if example == i:\n",
        "                ax[plot, i].imshow(batch[0][idx][0, :, :], cmap=plt.get_cmap('gray'))\n",
        "                ax[plot, i].axis('off')\n",
        "                plot += 1\n",
        "            if plot == num_examples:\n",
        "                break\n",
        "        else:\n",
        "            continue\n",
        "        break\n",
        "plt.subplots_adjust(bottom=0.3, top=0.7, wspace=0.025, hspace=0)\n",
        "plt.suptitle('Example images from the MNIST dataset')\n",
        "plt.tight_layout()\n",
        "plt.show()"
      ],
      "execution_count": null,
      "outputs": []
    },
    {
      "cell_type": "markdown",
      "metadata": {
        "id": "pAIuzqhYc9vC"
      },
      "source": [
        "#### **Zadanie 2a** Generalizacja vs. wielkość modelu\n",
        "\n",
        "W tym ćwiczeniu skupimy się na zagadnieniu ***bias-variance trade-off***. Ocenę własności generalizacyjnych modeli można przedstawić w postaci oceny dwóch przeciwstawnych sobie członów:\n",
        "* **bias** (obciążenie) - uproszczenia poczynione przez model podczas treningu, *wyrażane jako różnica założonego poziomu błędu jaki planujemy osiągnąć przez modelowanie i błędu na zbiorze trenującym* (jako założony poziom błędu najczęściej przyjmuje się tzw. *human level* w danym zadaniu, czyli osiągany poziom błędu przez osobę, która mogłaby zastąpić model, *dla zadania rozpoznawania cyfr pisanych ręcznie możemy bez problemu założyć 100% dokładność docelową*),\n",
        "* **variance** (wariancja) - o ile gorzej radzi sobie model na zbiorze walidacyjnym względem zbioru trenującego, *wyrażany jako prosta różnica obu błędów*.\n",
        "\n",
        "Zbudowany zostanie prosty model sieci neuronowej przedstawiony w klasie ```VanillaNet```. Jest to prosty perceptron wielowarstwowy z funkcją aktywacji ReLU i wyjściem Softmax. Obrazy na wejściu będą musiały zostać poddane spłaszczeniu, aby dostosować się do formatu wejścia sieci neuronowych (co nie zawsze jest dobrą techniką wektoryzacji, ale w przypadku znormalizowanego zbioru MNIST pozwoli osiągnąć dobre wyniki). W ćwiczeniu ograniczymy zbiór trenujący do raptem kilkunastu przykładów per klasa (10-20 przykładów per cyfra) i będziemy zmieniać rozmiar warstwy ukrytej (liczbę neuronów ukrytych) $hidden\\_sizes \\in \\{2, 3, 5, .. 20, 30\\}$. Modele będą uczone w analogiczny sposób (ten sam algorytm, hiperparametry optymalizacji, liczba epok) z wykorzystaniem techniki [EarlyStopping](https://en.wikipedia.org/wiki/Early_stopping) oraz [LearningRateScheduler](https://pytorch.org/docs/stable/optim.html#how-to-adjust-learning-rate). Aby zminimalizować efekty losowe podczas uczenia każda konfiguracja sieci będzie uczona 10 krotnie, a wyniki będą uśredniane między próbami.\n",
        "\n",
        "Celem ćwiczenia jest zaobserwowanie zależności między uproszczeniami modelu (obciążeniem, ang. *bias*), a wariancją (ang. *variance*).\n",
        "\n",
        "Przed przystąpieniem do ćwiczenia zalecam zapoznanie się z rozdziałem *Bias and Variance* (str 41-54) z książki *Machine Learning Yearning* autorstwa Andrew Ng (podgląd dostępny np [tutaj](https://github.com/ajaymache/machine-learning-yearning/blob/master/full%20book/machine-learning-yearning.pdf))."
      ]
    },
    {
      "cell_type": "code",
      "metadata": {
        "id": "5cdNi0dZX53c"
      },
      "source": [
        "NUM_EPOCHS = 10\n",
        "PATIENCE = 5\n",
        "NUM_CLASSES = 10\n",
        "learning_rate = 0.1\n",
        "momentum = 0.9"
      ],
      "execution_count": null,
      "outputs": []
    },
    {
      "cell_type": "code",
      "metadata": {
        "id": "-DoBLM6z0BA4"
      },
      "source": [
        "hidden_sizes = [2,3,5,8,12,15,20,30]\n",
        "\n",
        "train_errs = []\n",
        "valid_errs = []\n",
        "test_errs = []\n",
        "\n",
        "for model_size in hidden_sizes:\n",
        "    mean_train = []\n",
        "    mean_valid = []\n",
        "    mean_test = []\n",
        "    for i in range(10):\n",
        "        model = VanillaNet(model_size)\n",
        "        model = model.to(DEVICE)\n",
        "        optimizer = optim.SGD(model.parameters(),\n",
        "                              lr=learning_rate,\n",
        "                              momentum=momentum)\n",
        "        criterion = nn.CrossEntropyLoss()\n",
        "        scheduler = torch.optim.lr_scheduler.StepLR(optimizer, step_size=10, gamma=0.1)\n",
        "\n",
        "        model, train_loss, valid_loss, train_loss_per_batch, valid_loss_per_batch, train_errors, valid_errors = train_model(model)\n",
        "        predictions_total, targets_total, test_err = test_model(model)\n",
        "        mean_train.append(train_errors[-1])\n",
        "        mean_valid.append(valid_errors[-1])\n",
        "        mean_test.append(test_err)\n",
        "\n",
        "    train_errs.append(np.mean(mean_train))\n",
        "    valid_errs.append(np.mean(mean_valid))\n",
        "    test_errs.append(np.mean(mean_test))"
      ],
      "execution_count": null,
      "outputs": []
    },
    {
      "cell_type": "code",
      "metadata": {
        "id": "MhbD1t110gSH"
      },
      "source": [
        "plt.plot(hidden_sizes, train_errs)\n",
        "plt.plot(hidden_sizes, valid_errs)\n",
        "plt.plot(hidden_sizes, test_errs)\n",
        "plt.xlabel('Model complexity [hidden_size]')\n",
        "plt.ylabel('1-Accuracy (Error)')\n",
        "plt.grid(True)\n",
        "plt.legend(['train', 'valid', 'test'])\n",
        "plt.show()"
      ],
      "execution_count": null,
      "outputs": []
    },
    {
      "cell_type": "markdown",
      "metadata": {
        "id": "0hZqS1UV9iXV"
      },
      "source": [
        "#### **Pytania**\n",
        "0. Czym jest niedouczenie modelu w kontekście bias-variance tradeoff (ang. *avoidable bias*)? Jakie techniki mogą zostać użyte aby zminimalizować jego wpływ na trenowany model?\n",
        "1. Jakie techniki poprawiają uwarunkowanie uczenia, aby docelowo stworzyć model o niższej wariancji?\n",
        "2. W sprawozdaniu proszę zamieścić wykres przedstawiający błąd w funkcji wielkości modelu. Proszę skomentować widoczne charakterystyki. *Jeżeli obserwujemy taką zależność:* Czy niższy błąd na zbiorze testowym od zbioru walidacyjnego jest typowym i oczekiwanym efektem w uczeniu sieci neuronowych?\n",
        "2. W komórce kodu poniżej proszę uzupełnić wyrażenie na zmienne ```bias``` oraz ```variance```. Potrzebne będą do tego zmienne ```train_errs``` oraz ```valid_errs```. Następnie wyświetlić wykres przedstawiający przebieg tych zmiennych w funkcji wielkości modelu. Proszę opisać i skomentować uzyskane wykresy. Czy na podstawie tego wykresu można określić optymalny rozmiar modelu?\n"
      ]
    },
    {
      "cell_type": "code",
      "metadata": {
        "id": "z0b9RJ_SiiqU"
      },
      "source": [
        "bias = #{TUTAJ NALEŻY WPISAĆ FORMUŁĘ NA BŁĄD TYPU BIAS}\n",
        "variance = #{TUTAJ NALEŻY WPISAĆ FORMUŁĘ NA BŁĄD TYPU VARIANCE}\n",
        "\n",
        "plt.plot(hidden_sizes, bias)\n",
        "plt.plot(hidden_sizes, variance)\n",
        "plt.xlabel('Model complexity [hidden_size]')\n",
        "plt.ylabel('Error type')\n",
        "plt.grid(True)\n",
        "plt.legend(['bias', 'variance'])\n",
        "plt.show()"
      ],
      "execution_count": null,
      "outputs": []
    },
    {
      "cell_type": "markdown",
      "metadata": {
        "id": "XbIv4gdtY4xT"
      },
      "source": [
        "#### **Zadanie 2b** Generalizacja vs. ekspresywność modelu i uwarunkowanie procesu uczenia\n",
        "\n",
        "Ćwiczenie zaprezentuje porównanie między dwoma konkurencyjnymi modelami klasyfikacji obrazów:\n",
        "- prostym modelem perceptronu wielowarstwowego MLP (modelem z ćwiczenia 2a),\n",
        "- płytką siecią konwolucyjną.\n",
        "\n",
        "Modele różnią się [ekspresywnością](https://blog.evjang.com/2017/11/exp-train-gen.html). W kontekście generalizacji, **model bardziej ekspresywny** będzie **przy mniejszej liczbie neuronów osiągać lepsze zdolności generalizacyjne** (lepiej modelować dane zagadnienie z mniejszymi błędami testowania) lub przy tej samej liczbie parametrów będzie **potrafił modelować bardziej skomplikowane funkcje** . Podobnie jak w zadaniu 2a zastosujemy dokładnie identyczne warunki treningu, tym razem z większą porcją danych uczących (500 batchy po 64 przykłady). Badania będą obejmować najbardziej popularne techniki wizualizacji wyników osiąganych na zbiorze testującym w zadaniach klasyfikacji:\n",
        "- logi treningu w postaci osiąganej funkcji kosztu oraz dokładności (accuracy),\n",
        "- wykres funkcji kosztu osiąganej w kolejnych epokach i batchach uczenia (dla zbioru treningowego i walidacyjnego),\n",
        "- wykres dokładności treningu i walidacji per epoka uczenia,\n",
        "- wyniki funkcji kosztu, dokładności i precyzji per klasa na zbiorze testującym,\n",
        "- numeryczne zestawienie podstawowych uśrednionych metryk klasyfikacji (dokładność ACC, precyzja PREC, czułość REC, miara F1,\n",
        "- raport klasyfikacji (ang. *classification report*) zawierający zestawienie podstawowych metryk per klasa\n",
        "- macierz pomyłek (ang. *confusion matrix*)\n",
        "- przykładowe predykcje na zbiorze testującym (na jednym batchu danych testujących = u nas 64 przykłady)"
      ]
    },
    {
      "cell_type": "code",
      "metadata": {
        "id": "qxIdYJH4OEaJ"
      },
      "source": [
        "batch_size_train = 64\n",
        "batch_size_test = 64\n",
        "\n",
        "train_loader, valid_loader, test_loader = read_MNIST(batch_size_train, batch_size_test, 'zad2b')"
      ],
      "execution_count": null,
      "outputs": []
    },
    {
      "cell_type": "code",
      "metadata": {
        "id": "qfm_Zu7_OJQE"
      },
      "source": [
        "NUM_EPOCHS = 20\n",
        "PATIENCE = 2\n",
        "NUM_CLASSES = 10\n",
        "learning_rate = 0.05\n",
        "momentum = 0.5\n",
        "hidden_size = 50"
      ],
      "execution_count": null,
      "outputs": []
    },
    {
      "cell_type": "markdown",
      "metadata": {
        "id": "q7iVE9UwHBLX"
      },
      "source": [
        "##### Vanilla Neural Network"
      ]
    },
    {
      "cell_type": "code",
      "metadata": {
        "id": "hm4WmE6rRjhI"
      },
      "source": [
        "model = VanillaNet(hidden_size)\n",
        "model = model.to(DEVICE)\n",
        "\n",
        "optimizer = optim.SGD(model.parameters(),\n",
        "                      lr=learning_rate,\n",
        "                      momentum=momentum)\n",
        "criterion = nn.CrossEntropyLoss()\n",
        "scheduler = torch.optim.lr_scheduler.StepLR(optimizer, step_size=10, gamma=0.1)"
      ],
      "execution_count": null,
      "outputs": []
    },
    {
      "cell_type": "code",
      "metadata": {
        "id": "QbDRqaugSrYo"
      },
      "source": [
        "valid_errors = [100]\n",
        "while(valid_errors[-1]>10):\n",
        "    model, train_loss, valid_loss, train_loss_per_batch, valid_loss_per_batch, train_errors, valid_errors = train_model(model, verbose=True)"
      ],
      "execution_count": null,
      "outputs": []
    },
    {
      "cell_type": "code",
      "metadata": {
        "id": "bsCClUCISuUM"
      },
      "source": [
        "plot_learning_curves(train_loss, valid_loss, train_loss_per_batch, valid_loss_per_batch)"
      ],
      "execution_count": null,
      "outputs": []
    },
    {
      "cell_type": "code",
      "metadata": {
        "id": "kHldC4wc_biN"
      },
      "source": [
        "plt.plot(100-np.array(train_errors))\n",
        "plt.plot(100-np.array(valid_errors))\n",
        "plt.xlabel('Epoch')\n",
        "plt.ylabel('Accuracy [%]')\n",
        "plt.grid(True)\n",
        "plt.legend(['train', 'valid'])\n",
        "plt.ylim([70,100])\n",
        "plt.show()"
      ],
      "execution_count": null,
      "outputs": []
    },
    {
      "cell_type": "code",
      "metadata": {
        "id": "emrrzT7aSw9E"
      },
      "source": [
        "predictions_total, targets_total, test_err = test_model(model, verbose=True)"
      ],
      "execution_count": null,
      "outputs": []
    },
    {
      "cell_type": "code",
      "metadata": {
        "id": "fq6OhUeCAJw1"
      },
      "source": [
        "scoring = ClassifyScoring(y_true=targets_total, y_pred=predictions_total, target_names=classes, verbose = True)\n",
        "_ = scoring.score()\n",
        "print()\n",
        "scoring.print_report()\n",
        "cm_vanilla = scoring.conf_mat()"
      ],
      "execution_count": null,
      "outputs": []
    },
    {
      "cell_type": "code",
      "metadata": {
        "id": "-BDRmZ2xka7s"
      },
      "source": [
        "show_example_predictions(model)"
      ],
      "execution_count": null,
      "outputs": []
    },
    {
      "cell_type": "markdown",
      "metadata": {
        "id": "srPlkdCkJEmO"
      },
      "source": [
        "##### Convolutional Neural Network"
      ]
    },
    {
      "cell_type": "code",
      "metadata": {
        "id": "tF8VPO0NJXZD"
      },
      "source": [
        "model = ConvNet(hidden_size)\n",
        "model = model.to(DEVICE)\n",
        "\n",
        "optimizer = optim.SGD(model.parameters(),\n",
        "                      lr=learning_rate,\n",
        "                      momentum=momentum)\n",
        "criterion = nn.CrossEntropyLoss()\n",
        "scheduler = torch.optim.lr_scheduler.StepLR(optimizer, step_size=10, gamma=0.1)"
      ],
      "execution_count": null,
      "outputs": []
    },
    {
      "cell_type": "code",
      "metadata": {
        "id": "s16vUUY3JXZD"
      },
      "source": [
        "valid_errors = [100]\n",
        "while(valid_errors[-1]>10):\n",
        "    model, train_loss, valid_loss, train_loss_per_batch, valid_loss_per_batch, train_errors, valid_errors = train_model(model, verbose=True)"
      ],
      "execution_count": null,
      "outputs": []
    },
    {
      "cell_type": "code",
      "metadata": {
        "id": "2C7bqbvgJXZF"
      },
      "source": [
        "plot_learning_curves(train_loss, valid_loss, train_loss_per_batch, valid_loss_per_batch)"
      ],
      "execution_count": null,
      "outputs": []
    },
    {
      "cell_type": "code",
      "metadata": {
        "id": "net6umeM-Ymw"
      },
      "source": [
        "plt.plot(100-np.array(train_errors))\n",
        "plt.plot(100-np.array(valid_errors))\n",
        "plt.xlabel('Epoch')\n",
        "plt.ylabel('Accuracy [%]')\n",
        "plt.grid(True)\n",
        "plt.legend(['train', 'valid'])\n",
        "plt.ylim([70,100])\n",
        "plt.show()"
      ],
      "execution_count": null,
      "outputs": []
    },
    {
      "cell_type": "code",
      "metadata": {
        "id": "00a2WUSeJXZG"
      },
      "source": [
        "predictions_total, targets_total, test_err = test_model(model, verbose=True)"
      ],
      "execution_count": null,
      "outputs": []
    },
    {
      "cell_type": "code",
      "metadata": {
        "id": "qt_34ivLFXJa"
      },
      "source": [
        "scoring = ClassifyScoring(y_true=targets_total, y_pred=predictions_total, target_names=classes, verbose=True)\n",
        "_ = scoring.score()\n",
        "print()\n",
        "scoring.print_report()\n",
        "cm_conv = scoring.conf_mat()"
      ],
      "execution_count": null,
      "outputs": []
    },
    {
      "cell_type": "code",
      "metadata": {
        "id": "otlhonQxJXZG"
      },
      "source": [
        "show_example_predictions(model)"
      ],
      "execution_count": null,
      "outputs": []
    },
    {
      "cell_type": "markdown",
      "metadata": {
        "id": "6EJ8REo-9kCI"
      },
      "source": [
        "#### **Pytania**\n",
        "\n",
        "0. Proszę własnymi słowami wyjaśnić pojęcie ekspresywności w ujęciu modeli neuronowych.\n",
        "1. W sprawozdaniu proszę podsumować eksperymenty porównujące VanillaNet i ConvNet (w formie tekstu i zbiorczych tabel i wykresów). Proszę zadbać o zwięzłą prezentację generowanych wykresów, tabeli, raportów, aby nawiązywały do napisanej analizy wyników.\n",
        "2. Jaka funkcja kosztu była używana podczas treningu sieci? Jaka jest formuła matematyczna tej funkcji?\n",
        "3. Ile trenowalnych parametrów znajduje się w sieci VanillaNet vs. ConvNet? Który z modeli jest bardziej ekspresywny? Czy dla tego modelu jednocześnie osiągana jest lepsza generalizacja przy mniejszej liczbie parametrów?  \n",
        "Aby uzyskać liczbę parametrów można skorzystać z poniższej funkcji ```get_n_params```.\n",
        "```\n",
        "def get_n_params(model):\n",
        "    pp=0\n",
        "    for p in list(model.parameters()):\n",
        "        nn=1\n",
        "        for s in list(p.size()):\n",
        "            nn = nn*s\n",
        "        pp += nn\n",
        "    return pp\n",
        "```\n",
        "4. Czym różnią się macierze pomyłek (ang. *confusion matrix*) uzyskane w treningu sieci VanillaNet (```cm_vanilla```) i ConvNet (```cm_conv```)? Proszę uzupełnić poniższą komórkę kodu i skomentować uzyskane wyniki (przy uzupełnianiu kodu proszę zwrócić uwagę aby poprawnie zdefiniować różnicę tak, aby kolorowanie heatmapy się zgadzało).\n",
        "5. **Dla chętnych:** Proszę spojrzeć na budowę warstwową modeli VanillaNet oraz ConvNet. Można albo spojrzeć do klas VanillaNet i ConvNet w sekcji Dodatkowe funkcje, albo wyświetlić sobie budowę warstwową klas PyTorcha z pomocą komendy `print(model)`, gdzie model to obiekt klas VanillaNet lub ConvNet. Biorąc pod uwagę używaną funkcję celu, która warstwa w którym modelu jest zbędna? Proszę przeprowadzić dodatkowy eksperyment ewaluacji sieci po wprowadzeniu poprawki i porównać wyniki modelu."
      ]
    },
    {
      "cell_type": "code",
      "metadata": {
        "id": "wXgfklixL0p0"
      },
      "source": [
        "diff_cm = #{TUTAJ NALEŻY WPISAĆ FORMUŁĘ NA RÓŻNICĘ MACIERZY POMYŁEK}\n",
        "\n",
        "fig = plt.figure(figsize=(10,10))\n",
        "sn.heatmap(diff_cm, annot=True, square=True, fmt='g', cmap='RdYlGn', vmin=-20, vmax=20)\n",
        "plt.ylabel('True label')\n",
        "plt.xlabel('Predicted label')\n",
        "plt.show()"
      ],
      "execution_count": null,
      "outputs": []
    },
    {
      "cell_type": "markdown",
      "metadata": {
        "id": "nD_eC8bHY5sb"
      },
      "source": [
        "### \\* **Zadanie 3** Przetwarzanie języka naturalnego \\* - dla chętnych\n",
        "\n",
        "Ostatnie ćwiczenie dla chętnych obejmuje zagadnienie klasyfikacji tekstu. Tekst z natury nie ma reprezentacji numerycznej (istnieje jedynie dyskretna forma zapisu literowego), co stanowi naczelny problem w zagadnieniach przetwarzania języka naturalnego (żartobliwie mówi się, że *komputer lubi liczby*). Z tego powodu przez ostatnie lata naukowcy wypracowywali metody pozwalające na numeryczną reprezentacji tekstu (np. słowa/zdania/dokumentu) w postaci wektora. Przebadane zostaną 3 niezależne metody wektoryzacji tekstu:\n",
        "- **Bag-of-words** - najprostszy model wektoryzacji zakładający wektory o wartościach 0-1, o długości słownika wszystkich unikalnych wyrazów, gdzie 1 odpowiada obecności słowa ze słownika w wektoryzowanym tekście,\n",
        "- **Tf-idf** - ulepszony model wektoryzacji, w którym uwzględniany jest współczynnik związku z wektoryzowanym tekstem (korzysta się z iloczynu częstotliwości występowania słowa w danym dokumencie i częstotliwości występowania w innych dokumentach),\n",
        "- **Universal Sentence Encoder (USE)** - neuronowy, głęboki model językowy pozwalający na reprezentację tekstu (zazwyczaj zdań) w postaci wysokowymiarowego wektora (ang. *embedding*). Uwzględnia znaczenie semantyczne wyrazów.\n",
        "\n",
        "Zainteresowanym czytelnikom pozostwiam linki prezentujące więcej szczegółów na temat wybranych metod:  \n",
        "- [Bag of words i TFIDF](https://www.analyticsvidhya.com/blog/2020/02/quick-introduction-bag-of-words-bow-tf-idf/)  \n",
        "- [USE](https://amitness.com/2020/06/universal-sentence-encoder/)   \n",
        "- [embedding - idea](https://developers.google.com/machine-learning/crash-course/embeddings/video-lecture)  \n",
        "- [embeddingi - modele językowe](https://lilianweng.github.io/lil-log/2017/10/15/learning-word-embedding.html)  \n",
        "- [o problemie reprezentacji tekstu](https://www.analyticsvidhya.com/blog/2017/06/word-embeddings-count-word2veec/)  \n",
        "\n",
        "Celem ćwiczenia będzie prezentacja zależności między metodą wektoryzacji tekstu (która będzie modelować stopień zaawansowania cech), a zdolnościami generalizacyjnymi."
      ]
    },
    {
      "cell_type": "markdown",
      "metadata": {
        "id": "4RGRLmW7dw-y"
      },
      "source": [
        "#### 20NewsGroup dataset\n",
        "\n",
        "W ćwiczeniu będziemy budować modele klasyfikacji z użyciem danych ze zbioru 20NewsGroup (więcej o tym zbiorze danych można poczytać np. [tutaj](https://kdd.ics.uci.edu/databases/20newsgroups/20newsgroups.html)).\n",
        "\n",
        "Analogicznie do poprzednich ćwiczeń rozpoczniemy od eksploracji zbioru danych."
      ]
    },
    {
      "cell_type": "markdown",
      "metadata": {
        "id": "6VO6IJcfd5jd"
      },
      "source": [
        "**Kategorie 20NewsGroup**\n",
        "\n",
        "Zbiór 20NewsGroup to dataset złożony z 20000 wiadomości pochodzących z 20 grup tematycznych. Poniżej przedstawiono tytuły 20 kategorii dostępnych w zbiorze danych:\n",
        "\n",
        "```\n",
        "* alt.atheism\n",
        "* comp.graphics\n",
        "* comp.os.ms-windows.misc\n",
        "* comp.sys.ibm.pc.hardware\n",
        "* comp.sys.mac.hardware\n",
        "* comp.windows.x\n",
        "* misc.forsale\n",
        "* rec.autos\n",
        "* rec.motorcycles\n",
        "* rec.sport.baseball\n",
        "* rec.sport.hockey\n",
        "* sci.crypt\n",
        "* sci.electronics\n",
        "* sci.med\n",
        "* sci.space\n",
        "* soc.religion.christian\n",
        "* talk.politics.guns\n",
        "* talk.politics.mideast\n",
        "* talk.politics.misc\n",
        "* talk.religion.misc\n",
        "```\n",
        "\n",
        "Na potrzeby ćwiczenia zostały wybrane 4 kategorie krzyżujące się tematycznie (2 z grupy religii i technologii):\n",
        "```\n",
        "* alt.atheism\n",
        "* soc.religion.christian\n",
        "* comp.os.ms-windows.misc\n",
        "* comp.sys.ibm.pc.hardware\n",
        "```"
      ]
    },
    {
      "cell_type": "code",
      "metadata": {
        "id": "abqY7p_RY6CD"
      },
      "source": [
        "categories = ['alt.atheism', 'comp.os.ms-windows.misc', 'comp.sys.ibm.pc.hardware', 'soc.religion.christian']\n",
        "newsgroup_train = fetch_20newsgroups(subset='train', categories=categories, shuffle=True, random_state=RANDOM_SEED)\n",
        "newsgroup_test = fetch_20newsgroups(subset='test', categories=categories, shuffle=True, random_state=RANDOM_SEED)"
      ],
      "execution_count": null,
      "outputs": []
    },
    {
      "cell_type": "code",
      "metadata": {
        "cellView": "form",
        "id": "vMbr-Qt7h5cP"
      },
      "source": [
        "#@title Który zbiór danych należy zwizualizować?\n",
        "which_dataset = \"testuj\\u0105cy\" #@param [\"trenujący\", \"testujący\"]\n",
        "\n",
        "if which_dataset == 'trenujący':\n",
        "    visualize_dataset = newsgroup_train\n",
        "elif which_dataset == 'testujący':\n",
        "    visualize_dataset = newsgroup_test\n",
        "else:\n",
        "    raise"
      ],
      "execution_count": null,
      "outputs": []
    },
    {
      "cell_type": "code",
      "metadata": {
        "id": "RQfk0IvX3qno"
      },
      "source": [
        "keys, counts = np.unique(visualize_dataset.target, return_counts=True)\n",
        "plt.bar(categories, counts)\n",
        "plt.grid(True)\n",
        "plt.xticks(range(len(categories)), categories, rotation='vertical')\n",
        "plt.title('20NewsGroup')\n",
        "plt.ylabel('Count')\n",
        "plt.xlabel('Class')\n",
        "plt.show()"
      ],
      "execution_count": null,
      "outputs": []
    },
    {
      "cell_type": "code",
      "metadata": {
        "id": "0pewOwrLVQi7"
      },
      "source": [
        "print('RAW DATASET')\n",
        "\n",
        "for category in range(len(categories)):\n",
        "    for idx, target in enumerate(newsgroup_train.target):\n",
        "        if target == category:\n",
        "            print('='*50)\n",
        "            print(categories[category])\n",
        "            print('='*50)\n",
        "            print(newsgroup_train.data[idx])\n",
        "            break"
      ],
      "execution_count": null,
      "outputs": []
    },
    {
      "cell_type": "markdown",
      "metadata": {
        "id": "VvdYF_vEZ8V5"
      },
      "source": [
        "Na podstawie powyższych przykładów można zauważyć, że teksty mają stosunkowo podobną kontrukcję (podobną do maili/postów) i zawierają stosunkowo dużo nieistotnych dla modelowanych kategorii słów/wyrażeń np. adresy email, specyficzne formatowanie (dla cytowań), podpisy. Aby pozbyć się tych artefaktów należy przeprowadzić tzw. \"czyszczenie\" zbioru danych. Dla 20NewsGroup zaproponowano następujące kroki, które implementuje klasa Clean20NewsGroup:\n",
        "\n",
        "- [x] usunąć z tekstu znaki nowej linii \\n\n",
        "- [x] usunąć z tekstu linie zaczynające się np. na From:, Subject:, ...  \n",
        "- [x] usunąć nadmiarowe puste linie z przodu i tyłu  \n",
        "- [x] usunąć bardzo częste dla języka słowa (ang. *stopwords*, przykłady ['i', 'you', 'the'])\n",
        "- [x] usunąć duplikujące się spacje wewnątrz tekstu\n",
        "- [x] usunąć znaki specjalne\n",
        "- [x] zmniejszyć litery do małych (ang. *lowercase*)\n",
        "\n",
        "W komórkach poniżej następuje czyszczenie zbioru oraz wyświetlenie przykładowego wyczyszczonego tekstu."
      ]
    },
    {
      "cell_type": "code",
      "metadata": {
        "id": "x30mz9CdZ-60"
      },
      "source": [
        "cleaned_train = Clean20NewsGroup.clean_20newsgroup(newsgroup_train.data)\n",
        "cleaned_test = Clean20NewsGroup.clean_20newsgroup(newsgroup_test.data)"
      ],
      "execution_count": null,
      "outputs": []
    },
    {
      "cell_type": "code",
      "metadata": {
        "id": "bWTgCCtCexfr"
      },
      "source": [
        "print('CLEANED DATASET')\n",
        "\n",
        "for category in range(len(categories)):\n",
        "    for idx, target in enumerate(newsgroup_train.target):\n",
        "        if target == category:\n",
        "            print('='*50)\n",
        "            print(categories[category])\n",
        "            print('='*50)\n",
        "            print(cleaned_train[idx])\n",
        "            break"
      ],
      "execution_count": null,
      "outputs": []
    },
    {
      "cell_type": "markdown",
      "metadata": {
        "id": "P3dQZKQDeYRj"
      },
      "source": [
        "#### **Zadanie 3** Generalizacja vs. jakość ekstraktora cech\n",
        "\n",
        "Jakość ekstraktora cech będzie symulowana przez 3 w różnym stopniu skomplikowane algorytmy wektoryzacji tekstu oznaczane w kodzie skrótami ```bow```, ```tfidf``` oraz ```use```. Modele BOW i TFIDF będą połączone z naiwnym klasyfikatorem Bayesa (ze względu na dyskretną, rzadką strukturę generowanych wektorów), a USE z klasyfikaotrem SVM z jądrem gaussowskim. Porównywane będą klasyczne miary jakości klasyfikacji takie jak zestawienie uśrednionych między klasami metryk, wyniki metryk per klasa oraz macierz pomyłek (ang. *confusion matrix*)."
      ]
    },
    {
      "cell_type": "markdown",
      "metadata": {
        "id": "hSlC7aoCQdBU"
      },
      "source": [
        "##### BAG OF WORDS"
      ]
    },
    {
      "cell_type": "code",
      "metadata": {
        "id": "UgsQ9v67QaK_"
      },
      "source": [
        "bow_clf = Pipeline([\n",
        "    ('bow', CountVectorizer()),\n",
        "    ('clf', MultinomialNB()),\n",
        "])\n",
        "\n",
        "bow_clf.fit(cleaned_train, newsgroup_train.target)\n",
        "predictions = bow_clf.predict(cleaned_test)"
      ],
      "execution_count": null,
      "outputs": []
    },
    {
      "cell_type": "code",
      "metadata": {
        "id": "MTAhuWZSWf3H"
      },
      "source": [
        "scoring = ClassifyScoring(y_true=newsgroup_test.target, y_pred=predictions, target_names=categories, verbose=False)\n",
        "results_bow = scoring.score()\n",
        "scoring.print_report()\n",
        "cm_bow = scoring.conf_mat()"
      ],
      "execution_count": null,
      "outputs": []
    },
    {
      "cell_type": "markdown",
      "metadata": {
        "id": "DFgV4cvcQdnw"
      },
      "source": [
        "##### TFIDF"
      ]
    },
    {
      "cell_type": "code",
      "metadata": {
        "id": "ngInf_CCQaA_"
      },
      "source": [
        "tfidf_clf = Pipeline([\n",
        "    ('bow', CountVectorizer()),\n",
        "    ('tfidf', TfidfTransformer()),\n",
        "    ('clf', MultinomialNB()),\n",
        "])\n",
        "tfidf_clf.fit(cleaned_train, newsgroup_train.target)\n",
        "predictions = tfidf_clf.predict(cleaned_test)"
      ],
      "execution_count": null,
      "outputs": []
    },
    {
      "cell_type": "code",
      "metadata": {
        "id": "NieP8kC1WlJO"
      },
      "source": [
        "scoring = ClassifyScoring(y_true=newsgroup_test.target, y_pred=predictions, target_names=categories, verbose=False)\n",
        "results_tfidf = scoring.score()\n",
        "scoring.print_report()\n",
        "cm_tfidf = scoring.conf_mat()"
      ],
      "execution_count": null,
      "outputs": []
    },
    {
      "cell_type": "markdown",
      "metadata": {
        "id": "rCU8HEgNQeXT"
      },
      "source": [
        "##### USE"
      ]
    },
    {
      "cell_type": "code",
      "metadata": {
        "id": "pZJseKp1Pq3Z"
      },
      "source": [
        "use_clf = Pipeline([\n",
        "    ('use', USEEmbeddingVectorizer()),\n",
        "    ('clf', SVC(gamma=1, C=1000)),\n",
        "])\n",
        "use_clf.fit(cleaned_train, newsgroup_train.target)\n",
        "predictions = use_clf.predict(cleaned_test)"
      ],
      "execution_count": null,
      "outputs": []
    },
    {
      "cell_type": "code",
      "metadata": {
        "id": "nXreyaF_Wm_v"
      },
      "source": [
        "scoring = ClassifyScoring(y_true=newsgroup_test.target, y_pred=predictions, target_names=categories, verbose=False)\n",
        "results_use = scoring.score()\n",
        "scoring.print_report()\n",
        "cm_use = scoring.conf_mat()"
      ],
      "execution_count": null,
      "outputs": []
    },
    {
      "cell_type": "markdown",
      "metadata": {
        "id": "ad_Fgkoo7XT0"
      },
      "source": [
        "##### PORÓWANIE"
      ]
    },
    {
      "cell_type": "code",
      "metadata": {
        "id": "pdr-pbwWTGpH"
      },
      "source": [
        "results_df = pd.DataFrame([results_bow, results_tfidf, results_use], columns=['ACC', 'PREC', 'REC', 'F1'])\n",
        "results_df['experiment'] = ['BOW', 'TFIDF', 'USE']\n",
        "display(results_df[['experiment', 'ACC', 'PREC', 'REC', 'F1']])"
      ],
      "execution_count": null,
      "outputs": []
    },
    {
      "cell_type": "code",
      "metadata": {
        "id": "jf0Za5JsVhKj"
      },
      "source": [
        "fig, axs = plt.subplots(1,3,figsize=(10,10))\n",
        "vmax = np.max([cm_bow, cm_tfidf, cm_use])\n",
        "\n",
        "sn.heatmap(cm_bow, vmin=0, vmax=vmax, annot=True, fmt='g', cmap='Blues', square=True, xticklabels=categories, yticklabels=categories, ax=axs[0], cbar=False)\n",
        "axs[0].set_title('Bag of words')\n",
        "axs[0].set_xlabel('Predicted label')\n",
        "axs[0].set_ylabel('True label')\n",
        "sn.heatmap(cm_tfidf, vmin=0, vmax=vmax, annot=True, fmt='g', cmap='Blues', square=True, xticklabels=categories, yticklabels=categories, ax=axs[1], cbar=False)\n",
        "axs[1].set_title('TF-IDF')\n",
        "axs[1].set_xlabel('Predicted label')\n",
        "axs[1].set_yticks([])\n",
        "sn.heatmap(cm_use, vmin=0, vmax=vmax, annot=True, fmt='g', cmap='Blues', square=True, xticklabels=categories, yticklabels=categories, ax=axs[2], cbar=False)\n",
        "axs[2].set_title('Universal Sentence Encoder')\n",
        "axs[2].set_xlabel('Predicted label')\n",
        "axs[2].set_yticks([])\n",
        "plt.show()"
      ],
      "execution_count": null,
      "outputs": []
    },
    {
      "cell_type": "markdown",
      "metadata": {
        "id": "AM0CFtJN9lRD"
      },
      "source": [
        "##### **Przykładowe dodatkowe eksperymenty do zadania 3**:\n",
        "\n",
        "- sprawdzenie jakie przykłady z bazy danych testujących zmieniają oznaczenie klasy dla różnych metod wektoryzacji\n",
        "- przebadanie wpływu wyboru klasyfikatora na rozwiązanie problemu klasyfikacji 4 klas (wystarczy podmienić obiekt ```'clf'``` w konkretnych Pipeline'ach\n",
        "- jaki klasyfikator dołączony do USE da najlepsze możliwe wyniki w zadaniu klasyfikacji 4 klasowej? Aby przeprowadzić eksperymenty można potestować następujące klasyfikatory:\n",
        "    - [```KNeighborsClassifier```](https://scikit-learn.org/stable/modules/generated/sklearn.neighbors.KNeighborsClassifier.html?)\n",
        "    - [```linear SVM```](https://scikit-learn.org/stable/modules/generated/sklearn.svm.SVC.html) - ```SVC``` z parametrem ```kernel='linear'```\n",
        "    - [```MLPClassifier```](https://scikit-learn.org/stable/modules/generated/sklearn.neural_network.MLPClassifier.html?)\n",
        "    - [```DecisionTreeClassifier```](https://scikit-learn.org/stable/modules/generated/sklearn.tree.DecisionTreeClassifier.html?)  \n",
        "    - [```AdaBoostClassifier```](https://scikit-learn.org/stable/modules/generated/sklearn.ensemble.AdaBoostClassifier.html?)\n",
        "    - [```RandomForestClassifier```](https://scikit-learn.org/stable/modules/generated/sklearn.ensemble.RandomForestClassifier.html?)\n",
        "    - [```GaussianProcessClassifier```](https://scikit-learn.org/stable/modules/generated/sklearn.gaussian_process.GaussianProcessClassifier.html?)\n",
        "    - [```GaussianNB```](https://scikit-learn.org/stable/modules/generated/sklearn.naive_bayes.GaussianNB.html?)\n",
        "    - [```MultinomialNB```](https://scikit-learn.org/stable/modules/generated/sklearn.naive_bayes.MultinomialNB.html?)   \n",
        "\n",
        "Aby automatycznie dostosować hiperparametry metod można użyć np. metody przeszukiwania dostępną w scikit_learn [```sklearn.model_selection.GridSearchCV```](https://scikit-learn.org/stable/modules/generated/sklearn.model_selection.GridSearchCV.html?hCV). Przykładowy kod użycia tej funkcjonalności jest dostępny np. w tym [tutorialu](https://scikit-learn.org/stable/auto_examples/miscellaneous/plot_kernel_ridge_regression.html#sphx-glr-auto-examples-miscellaneous-plot-kernel-ridge-regression-py).\n",
        "- która z uzyskanych macierzy pomyłek wydaje się najbardziej intuicyjna pod względem modelowanego problemu? Pomyłki między którymi klasami są intuicyjnie wyjaśnialne?"
      ]
    },
    {
      "cell_type": "markdown",
      "metadata": {
        "id": "okKhNzCXE5zY"
      },
      "source": [
        "## **Podsumowanie**\n",
        "\n",
        "Po odbyciu tego ćwiczenia student powinien wiedzieć:\n",
        "- czym jest zjawisko generalizacji, czym jest utrata generalizacji oraz w wyniku jakich czynników następuje\n",
        "- czym jest obciążenie modelu (ang. *bias*) oraz wariancja modelu (ang. *variance*)\n",
        "- czym jest ekspresywność modelu\n",
        "- w jaki spodób możemy badać zdolności generalizacyjne modeli\n",
        "- od jakich czynników związanych z modelem, uwarunkowaniem procesu uczenia oraz definicją modelowanego problemu zależy generalizacja\n",
        "- w jaki sposób można świadomie i odpowiedzialnie projektować modele i dbać o zdolności generalizacyjne proponowanych rozwiązań\n"
      ]
    },
    {
      "cell_type": "markdown",
      "metadata": {
        "id": "bYYA-f25Oad8"
      },
      "source": [
        "### **Forma zaliczenia**\n",
        "Standardowe sprawozdanie z wykonanych ćwiczeń z odpowiedziami na zadane pytania **oraz** opisem uzyskanych wykresów. Proszę pamiętać o sztandarowej zasadzie - nie wstawiamy wykresów/tabel, których nie zamierzamy komentować w tekście. Proszę nie ograniczać się do minimum analizy wymaganej w sekcjach pytań."
      ]
    },
    {
      "cell_type": "markdown",
      "metadata": {
        "id": "DIzhVM4lFBqE"
      },
      "source": [
        "## **Materiały dodatkowe**\n",
        "\n",
        "1.\tMachine Learning Yearning – o dobrych praktykach, jak badać generalizację (Andrew Ng) [książka](https://github.com/ajaymache/machine-learning-yearning/blob/master/full%20book/machine-learning-yearning.pdf)\n",
        "2.\tGeneralizacja w sieciach neuronowych (ujęcie deep learningowe) [link](https://deeplearningdemystified.com/article/fdl-5)\n",
        "[artykuł TDS](https://towardsdatascience.com/understand-neural-networks-model-generalization-7baddf1c48ca)\n",
        "[artykuł TDS](https://towardsdatascience.com/neural-networks-dont-generalize-the-way-you-think-they-do-de520bed2053)\n",
        "3.\tBias variance trade-off\n",
        "[link](http://www.r2d3.us/visual-intro-to-machine-learning-part-2/)\n",
        "4.\tDlaczego koncepcja bias-variance tradeoff może być niepoprawna w deep learningu? Jak może wyglądać krzywa uczenia dla bardzo głębokich sieci? [artykuł naukowy](https://arxiv.org/pdf/1812.11118.pdf)\n"
      ]
    }
  ]
}